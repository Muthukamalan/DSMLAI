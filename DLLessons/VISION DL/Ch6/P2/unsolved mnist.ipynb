{
 "cells": [
  {
   "cell_type": "code",
   "execution_count": 1,
   "metadata": {},
   "outputs": [
    {
     "name": "stderr",
     "output_type": "stream",
     "text": [
      "/home/muthu/miniconda3/envs/venv/lib/python3.12/site-packages/tqdm/auto.py:21: TqdmWarning: IProgress not found. Please update jupyter and ipywidgets. See https://ipywidgets.readthedocs.io/en/stable/user_install.html\n",
      "  from .autonotebook import tqdm as notebook_tqdm\n"
     ]
    }
   ],
   "source": [
    "import random\n",
    "import numpy as np\n",
    "import matplotlib.pyplot as plt\n",
    "\n",
    "import torch\n",
    "import torch.nn as nn\n",
    "import torch.optim as optim\n",
    "import torch.nn.functional as F\n",
    "from torch.utils.data import DataLoader\n",
    "\n",
    "from torchvision import datasets, transforms\n",
    "from torchvision.transforms import ToTensor\n",
    "\n",
    "\n",
    "from torchinfo import summary\n",
    "\n",
    "from tqdm import tqdm\n",
    "\n",
    "from utils import config,device,show__random_img,calculate_mean_std_mnist"
   ]
  },
  {
   "cell_type": "code",
   "execution_count": 2,
   "metadata": {},
   "outputs": [],
   "source": [
    "# Float16\n",
    "torch.amp.autocast_mode.autocast(\"cuda\",enabled=True,dtype=torch.float16)\n",
    "\n",
    "# REPRODUCE\n",
    "torch.backends.cudnn.deterministic=True\n",
    "random.seed(hash('setting random seeds')% 2**32-1)\n",
    "np.random.seed(hash('improves reproducibility')%2**32-1)\n",
    "torch.manual_seed(hash(\"by removing stochasticity\")%2**32-1)\n",
    "torch.cuda.manual_seed_all(hash('so runs are repetable')%2**32-1)"
   ]
  },
  {
   "cell_type": "code",
   "execution_count": 3,
   "metadata": {},
   "outputs": [],
   "source": [
    "train_transforms = transforms.Compose([\n",
    "    transforms.RandomApply([transforms.CenterCrop(22), ], p=0.1),\n",
    "    transforms.Resize((28, 28)),\n",
    "    transforms.RandomRotation((-15., 15.), fill=0),\n",
    "    transforms.ToTensor(),\n",
    "    transforms.Normalize((0.1307,), (0.3081,)),\n",
    "    ])\n",
    "\n",
    "# Test data transformations\n",
    "test_transforms = transforms.Compose([\n",
    "    transforms.ToTensor(),\n",
    "    transforms.Normalize((0.1307,), (0.3081,))\n",
    "    ])\n"
   ]
  },
  {
   "cell_type": "code",
   "execution_count": 4,
   "metadata": {},
   "outputs": [],
   "source": [
    "train_data = datasets.MNIST(config['data'].get('dir_path'), train=True, download=False, transform=train_transforms)\n",
    "test_data = datasets.MNIST(config['data'].get('dir_path'), train=False, download=False, transform=test_transforms)"
   ]
  },
  {
   "cell_type": "code",
   "execution_count": 5,
   "metadata": {},
   "outputs": [],
   "source": [
    "batch_size = 64\n",
    "\n",
    "if torch.cuda.is_available():\n",
    "    kwargs = {'batch_size': 64, 'shuffle': True, 'num_workers': 3, 'pin_memory': True}\n",
    "else:\n",
    "    kwargs = {'batch_size':32,'shuffle':True}\n",
    "\n",
    "test_loader = torch.utils.data.DataLoader(test_data, **kwargs)\n",
    "train_loader = torch.utils.data.DataLoader(train_data, **kwargs)"
   ]
  },
  {
   "cell_type": "code",
   "execution_count": 6,
   "metadata": {},
   "outputs": [],
   "source": [
    "# Data to plot accuracy and loss graphs\n",
    "train_losses = []\n",
    "test_losses = []\n",
    "train_acc = []\n",
    "test_acc = []\n",
    "\n",
    "test_incorrect_pred = {'images': [], 'ground_truths': [], 'predicted_vals': []}\n",
    "\n",
    "def GetCorrectPredCount(pPrediction, pLabels):\n",
    "  return pPrediction.argmax(dim=1).eq(pLabels).sum().item()\n",
    "\n",
    "\n",
    "def train(model, device, train_loader, optimizer, criterion):\n",
    "  model.train()\n",
    "  pbar = tqdm(train_loader)\n",
    "\n",
    "  train_loss = 0\n",
    "  correct = 0\n",
    "  processed = 0\n",
    "\n",
    "  for batch_idx, (data, target) in enumerate(pbar):\n",
    "    data, target = data.to(device), target.to(device)\n",
    "    optimizer.zero_grad()\n",
    "\n",
    "    # Predict\n",
    "    pred = model(data)\n",
    "\n",
    "    # Calculate loss\n",
    "    loss = criterion(pred, target)\n",
    "    train_loss+=loss.item()\n",
    "\n",
    "    # Backpropagation\n",
    "    loss.backward()\n",
    "    optimizer.step()\n",
    "\n",
    "    correct += GetCorrectPredCount(pred, target)\n",
    "    processed += len(data)\n",
    "\n",
    "    pbar.set_description(desc= f'Train: Loss={loss.item():0.4f} Batch_id={batch_idx} Accuracy={100*correct/processed:0.2f}')\n",
    "\n",
    "  train_acc.append(100*correct/processed)\n",
    "  train_losses.append(train_loss/len(train_loader))\n",
    "\n",
    "def test(model, device, test_loader, criterion):\n",
    "    model.eval()\n",
    "\n",
    "    test_loss = 0\n",
    "    correct = 0\n",
    "\n",
    "    with torch.no_grad():\n",
    "        for batch_idx, (data, target) in enumerate(test_loader):\n",
    "            data, target = data.to(device), target.to(device)\n",
    "\n",
    "            output = model(data)\n",
    "            test_loss += criterion(output, target, reduction='sum').item()  # sum up batch loss\n",
    "\n",
    "            correct += GetCorrectPredCount(output, target)\n",
    "\n",
    "\n",
    "    test_loss /= len(test_loader.dataset)\n",
    "    test_acc.append(100. * correct / len(test_loader.dataset))\n",
    "    test_losses.append(test_loss)\n",
    "    \n",
    "    print('Test set: Average loss: {:.4f}, Accuracy: {}/{} ({:.4f}%)\\n'.format(\n",
    "        test_loss, correct, len(test_loader.dataset),\n",
    "        100. * correct / len(test_loader.dataset)))\n",
    "    return test_loss"
   ]
  },
  {
   "cell_type": "code",
   "execution_count": 7,
   "metadata": {},
   "outputs": [
    {
     "data": {
      "image/png": "[encoded data removed]",
      "text/plain": [
       "<Figure size 640x480 with 1 Axes>"
      ]
     },
     "metadata": {},
     "output_type": "display_data"
    }
   ],
   "source": [
    "for i in random.choices(np.arange(0,20),k=1):\n",
    "    plt.imshow(train_data.data[i])\n",
    "    plt.title(f'label = {train_data.targets[i].numpy()}')\n",
    "    plt.show()"
   ]
  },
  {
   "cell_type": "markdown",
   "metadata": {},
   "source": [
    "### Model 1"
   ]
  },
  {
   "cell_type": "code",
   "execution_count": 8,
   "metadata": {},
   "outputs": [],
   "source": [
    "from model import Net"
   ]
  },
  {
   "cell_type": "code",
   "execution_count": 9,
   "metadata": {},
   "outputs": [
    {
     "name": "stdout",
     "output_type": "stream",
     "text": [
      "Epoch 1\n"
     ]
    },
    {
     "name": "stderr",
     "output_type": "stream",
     "text": [
      "Train: Loss=0.1189 Batch_id=937 Accuracy=93.35: 100%|██████████| 938/938 [00:05<00:00, 158.54it/s]\n"
     ]
    },
    {
     "name": "stdout",
     "output_type": "stream",
     "text": [
      "Test set: Average loss: 0.0545, Accuracy: 9844/10000 (98.4400%)\n",
      "\n",
      "Epoch 2\n"
     ]
    },
    {
     "name": "stderr",
     "output_type": "stream",
     "text": [
      "Train: Loss=0.1219 Batch_id=937 Accuracy=97.18: 100%|██████████| 938/938 [00:05<00:00, 176.17it/s]\n"
     ]
    },
    {
     "name": "stdout",
     "output_type": "stream",
     "text": [
      "Test set: Average loss: 0.0455, Accuracy: 9849/10000 (98.4900%)\n",
      "\n",
      "Epoch 3\n"
     ]
    },
    {
     "name": "stderr",
     "output_type": "stream",
     "text": [
      "Train: Loss=0.0524 Batch_id=937 Accuracy=97.75: 100%|██████████| 938/938 [00:05<00:00, 173.87it/s]\n"
     ]
    },
    {
     "name": "stdout",
     "output_type": "stream",
     "text": [
      "Test set: Average loss: 0.0348, Accuracy: 9892/10000 (98.9200%)\n",
      "\n",
      "Epoch 4\n"
     ]
    },
    {
     "name": "stderr",
     "output_type": "stream",
     "text": [
      "Train: Loss=0.0312 Batch_id=937 Accuracy=97.91: 100%|██████████| 938/938 [00:05<00:00, 176.62it/s]\n"
     ]
    },
    {
     "name": "stdout",
     "output_type": "stream",
     "text": [
      "Test set: Average loss: 0.0274, Accuracy: 9905/10000 (99.0500%)\n",
      "\n",
      "Epoch 5\n"
     ]
    },
    {
     "name": "stderr",
     "output_type": "stream",
     "text": [
      "Train: Loss=0.0117 Batch_id=937 Accuracy=98.16: 100%|██████████| 938/938 [00:05<00:00, 165.60it/s]\n"
     ]
    },
    {
     "name": "stdout",
     "output_type": "stream",
     "text": [
      "Test set: Average loss: 0.0305, Accuracy: 9904/10000 (99.0400%)\n",
      "\n",
      "Epoch 6\n"
     ]
    },
    {
     "name": "stderr",
     "output_type": "stream",
     "text": [
      "Train: Loss=0.0062 Batch_id=937 Accuracy=98.65: 100%|██████████| 938/938 [00:05<00:00, 169.32it/s]\n"
     ]
    },
    {
     "name": "stdout",
     "output_type": "stream",
     "text": [
      "Test set: Average loss: 0.0175, Accuracy: 9931/10000 (99.3100%)\n",
      "\n",
      "Epoch 7\n"
     ]
    },
    {
     "name": "stderr",
     "output_type": "stream",
     "text": [
      "Train: Loss=0.0197 Batch_id=937 Accuracy=98.86: 100%|██████████| 938/938 [00:05<00:00, 165.88it/s]\n"
     ]
    },
    {
     "name": "stdout",
     "output_type": "stream",
     "text": [
      "Test set: Average loss: 0.0169, Accuracy: 9934/10000 (99.3400%)\n",
      "\n",
      "Epoch 8\n"
     ]
    },
    {
     "name": "stderr",
     "output_type": "stream",
     "text": [
      "Train: Loss=0.0456 Batch_id=937 Accuracy=98.86: 100%|██████████| 938/938 [00:05<00:00, 166.98it/s]\n"
     ]
    },
    {
     "name": "stdout",
     "output_type": "stream",
     "text": [
      "Test set: Average loss: 0.0162, Accuracy: 9935/10000 (99.3500%)\n",
      "\n",
      "Epoch 9\n"
     ]
    },
    {
     "name": "stderr",
     "output_type": "stream",
     "text": [
      "Train: Loss=0.0377 Batch_id=937 Accuracy=98.86: 100%|██████████| 938/938 [00:05<00:00, 173.82it/s]\n"
     ]
    },
    {
     "name": "stdout",
     "output_type": "stream",
     "text": [
      "Test set: Average loss: 0.0162, Accuracy: 9938/10000 (99.3800%)\n",
      "\n",
      "Epoch 10\n"
     ]
    },
    {
     "name": "stderr",
     "output_type": "stream",
     "text": [
      "Train: Loss=0.1786 Batch_id=937 Accuracy=98.86: 100%|██████████| 938/938 [00:05<00:00, 167.83it/s]\n"
     ]
    },
    {
     "name": "stdout",
     "output_type": "stream",
     "text": [
      "Test set: Average loss: 0.0171, Accuracy: 9932/10000 (99.3200%)\n",
      "\n",
      "Epoch 11\n"
     ]
    },
    {
     "name": "stderr",
     "output_type": "stream",
     "text": [
      "Train: Loss=0.0027 Batch_id=937 Accuracy=98.92: 100%|██████████| 938/938 [00:05<00:00, 163.02it/s]\n"
     ]
    },
    {
     "name": "stdout",
     "output_type": "stream",
     "text": [
      "Test set: Average loss: 0.0158, Accuracy: 9932/10000 (99.3200%)\n",
      "\n",
      "Epoch 12\n"
     ]
    },
    {
     "name": "stderr",
     "output_type": "stream",
     "text": [
      "Train: Loss=0.0232 Batch_id=937 Accuracy=98.93: 100%|██████████| 938/938 [00:05<00:00, 164.35it/s]\n"
     ]
    },
    {
     "name": "stdout",
     "output_type": "stream",
     "text": [
      "Test set: Average loss: 0.0154, Accuracy: 9937/10000 (99.3700%)\n",
      "\n",
      "Epoch 13\n"
     ]
    },
    {
     "name": "stderr",
     "output_type": "stream",
     "text": [
      "Train: Loss=0.1749 Batch_id=937 Accuracy=98.95: 100%|██████████| 938/938 [00:05<00:00, 164.42it/s]\n"
     ]
    },
    {
     "name": "stdout",
     "output_type": "stream",
     "text": [
      "Test set: Average loss: 0.0149, Accuracy: 9935/10000 (99.3500%)\n",
      "\n",
      "Epoch 14\n"
     ]
    },
    {
     "name": "stderr",
     "output_type": "stream",
     "text": [
      "Train: Loss=0.0767 Batch_id=937 Accuracy=98.94: 100%|██████████| 938/938 [00:05<00:00, 164.78it/s]\n"
     ]
    },
    {
     "name": "stdout",
     "output_type": "stream",
     "text": [
      "Test set: Average loss: 0.0155, Accuracy: 9934/10000 (99.3400%)\n",
      "\n",
      "Epoch 15\n"
     ]
    },
    {
     "name": "stderr",
     "output_type": "stream",
     "text": [
      "Train: Loss=0.0020 Batch_id=937 Accuracy=98.94: 100%|██████████| 938/938 [00:05<00:00, 175.48it/s]\n"
     ]
    },
    {
     "name": "stdout",
     "output_type": "stream",
     "text": [
      "Test set: Average loss: 0.0151, Accuracy: 9938/10000 (99.3800%)\n",
      "\n",
      "Epoch 16\n"
     ]
    },
    {
     "name": "stderr",
     "output_type": "stream",
     "text": [
      "Train: Loss=0.0081 Batch_id=937 Accuracy=98.95: 100%|██████████| 938/938 [00:05<00:00, 181.49it/s]\n"
     ]
    },
    {
     "name": "stdout",
     "output_type": "stream",
     "text": [
      "Test set: Average loss: 0.0155, Accuracy: 9934/10000 (99.3400%)\n",
      "\n",
      "Epoch 17\n"
     ]
    },
    {
     "name": "stderr",
     "output_type": "stream",
     "text": [
      "Train: Loss=0.0105 Batch_id=937 Accuracy=98.91: 100%|██████████| 938/938 [00:05<00:00, 183.97it/s]\n"
     ]
    },
    {
     "name": "stdout",
     "output_type": "stream",
     "text": [
      "Test set: Average loss: 0.0155, Accuracy: 9934/10000 (99.3400%)\n",
      "\n",
      "Epoch 18\n"
     ]
    },
    {
     "name": "stderr",
     "output_type": "stream",
     "text": [
      "Train: Loss=0.0477 Batch_id=937 Accuracy=99.00: 100%|██████████| 938/938 [00:05<00:00, 187.49it/s]\n"
     ]
    },
    {
     "name": "stdout",
     "output_type": "stream",
     "text": [
      "Test set: Average loss: 0.0155, Accuracy: 9930/10000 (99.3000%)\n",
      "\n",
      "Epoch 19\n"
     ]
    },
    {
     "name": "stderr",
     "output_type": "stream",
     "text": [
      "Train: Loss=0.0340 Batch_id=937 Accuracy=98.89: 100%|██████████| 938/938 [00:05<00:00, 186.63it/s]\n"
     ]
    },
    {
     "name": "stdout",
     "output_type": "stream",
     "text": [
      "Test set: Average loss: 0.0155, Accuracy: 9934/10000 (99.3400%)\n",
      "\n",
      "Epoch 20\n"
     ]
    },
    {
     "name": "stderr",
     "output_type": "stream",
     "text": [
      "Train: Loss=0.0041 Batch_id=937 Accuracy=98.96: 100%|██████████| 938/938 [00:05<00:00, 185.76it/s]\n"
     ]
    },
    {
     "name": "stdout",
     "output_type": "stream",
     "text": [
      "Test set: Average loss: 0.0154, Accuracy: 9934/10000 (99.3400%)\n",
      "\n"
     ]
    }
   ],
   "source": [
    "model = Net().to(device)\n",
    "# for name,weights in model.named_parameters():\n",
    "#     print(f\"{name}\\t\\t {weights.shape}\")\n",
    "\n",
    "optimizer = optim.SGD(model.parameters(), lr=0.2, momentum=0.9)\n",
    "scheduler = optim.lr_scheduler.StepLR(optimizer, step_size=5, gamma=0.1)\n",
    "# New Line\n",
    "criterion =  F.nll_loss\n",
    "num_epochs = 20\n",
    "\n",
    "for epoch in range(1, num_epochs+1):\n",
    "  print(f'Epoch {epoch}')\n",
    "  train(model, device, train_loader, optimizer, criterion)\n",
    "  test(model, device, test_loader, criterion)\n",
    "  scheduler.step()"
   ]
  },
  {
   "cell_type": "code",
   "execution_count": 10,
   "metadata": {},
   "outputs": [
    {
     "data": {
      "text/plain": [
       "==========================================================================================\n",
       "Layer (type:depth-idx)                   Output Shape              Param #\n",
       "==========================================================================================\n",
       "Net                                      [1, 10]                   --\n",
       "├─Sequential: 1-1                        [1, 16, 28, 28]           --\n",
       "│    └─Conv2d: 2-1                       [1, 3, 28, 28]            27\n",
       "│    └─BatchNorm2d: 2-2                  [1, 3, 28, 28]            6\n",
       "│    └─ReLU: 2-3                         [1, 3, 28, 28]            --\n",
       "│    └─Dropout2d: 2-4                    [1, 3, 28, 28]            --\n",
       "│    └─Conv2d: 2-5                       [1, 8, 28, 28]            216\n",
       "│    └─BatchNorm2d: 2-6                  [1, 8, 28, 28]            16\n",
       "│    └─ReLU: 2-7                         [1, 8, 28, 28]            --\n",
       "│    └─Dropout2d: 2-8                    [1, 8, 28, 28]            --\n",
       "│    └─Conv2d: 2-9                       [1, 16, 28, 28]           1,152\n",
       "│    └─BatchNorm2d: 2-10                 [1, 16, 28, 28]           32\n",
       "│    └─ReLU: 2-11                        [1, 16, 28, 28]           --\n",
       "│    └─Dropout2d: 2-12                   [1, 16, 28, 28]           --\n",
       "├─Sequential: 1-2                        [1, 8, 17, 17]            --\n",
       "│    └─MaxPool2d: 2-13                   [1, 16, 15, 15]           --\n",
       "│    └─Conv2d: 2-14                      [1, 8, 17, 17]            128\n",
       "│    └─BatchNorm2d: 2-15                 [1, 8, 17, 17]            16\n",
       "├─Sequential: 1-3                        [1, 16, 17, 17]           --\n",
       "│    └─Conv2d: 2-16                      [1, 16, 17, 17]           1,152\n",
       "│    └─BatchNorm2d: 2-17                 [1, 16, 17, 17]           32\n",
       "│    └─ReLU: 2-18                        [1, 16, 17, 17]           --\n",
       "│    └─Dropout2d: 2-19                   [1, 16, 17, 17]           --\n",
       "│    └─Conv2d: 2-20                      [1, 16, 17, 17]           2,304\n",
       "│    └─BatchNorm2d: 2-21                 [1, 16, 17, 17]           32\n",
       "│    └─ReLU: 2-22                        [1, 16, 17, 17]           --\n",
       "│    └─Dropout2d: 2-23                   [1, 16, 17, 17]           --\n",
       "│    └─Conv2d: 2-24                      [1, 16, 17, 17]           2,304\n",
       "│    └─BatchNorm2d: 2-25                 [1, 16, 17, 17]           32\n",
       "│    └─ReLU: 2-26                        [1, 16, 17, 17]           --\n",
       "│    └─Dropout2d: 2-27                   [1, 16, 17, 17]           --\n",
       "├─Sequential: 1-4                        [1, 16, 9, 9]             --\n",
       "│    └─MaxPool2d: 2-28                   [1, 16, 9, 9]             --\n",
       "│    └─Conv2d: 2-29                      [1, 16, 9, 9]             256\n",
       "│    └─BatchNorm2d: 2-30                 [1, 16, 9, 9]             32\n",
       "├─Sequential: 1-5                        [1, 16, 9, 9]             --\n",
       "│    └─Conv2d: 2-31                      [1, 16, 9, 9]             2,304\n",
       "│    └─BatchNorm2d: 2-32                 [1, 16, 9, 9]             32\n",
       "│    └─ReLU: 2-33                        [1, 16, 9, 9]             --\n",
       "│    └─Dropout2d: 2-34                   [1, 16, 9, 9]             --\n",
       "│    └─Conv2d: 2-35                      [1, 16, 9, 9]             2,304\n",
       "│    └─ReLU: 2-36                        [1, 16, 9, 9]             --\n",
       "│    └─BatchNorm2d: 2-37                 [1, 16, 9, 9]             32\n",
       "│    └─Dropout2d: 2-38                   [1, 16, 9, 9]             --\n",
       "├─Sequential: 1-6                        [1, 16, 4, 4]             --\n",
       "│    └─MaxPool2d: 2-39                   [1, 16, 4, 4]             --\n",
       "│    └─Conv2d: 2-40                      [1, 16, 4, 4]             256\n",
       "│    └─BatchNorm2d: 2-41                 [1, 16, 4, 4]             32\n",
       "├─Sequential: 1-7                        [1, 10, 1, 1]             --\n",
       "│    └─Conv2d: 2-42                      [1, 10, 4, 4]             1,440\n",
       "│    └─BatchNorm2d: 2-43                 [1, 10, 4, 4]             20\n",
       "│    └─AvgPool2d: 2-44                   [1, 10, 1, 1]             --\n",
       "==========================================================================================\n",
       "Total params: 14,157\n",
       "Trainable params: 14,157\n",
       "Non-trainable params: 0\n",
       "Total mult-adds (Units.MEGABYTES): 3.22\n",
       "==========================================================================================\n",
       "Input size (MB): 0.00\n",
       "Forward/backward pass size (MB): 0.67\n",
       "Params size (MB): 0.06\n",
       "Estimated Total Size (MB): 0.73\n",
       "=========================================================================================="
      ]
     },
     "execution_count": 10,
     "metadata": {},
     "output_type": "execute_result"
    }
   ],
   "source": [
    "summary(model=model,input_size=(1,1,28,28),device='cuda')"
   ]
  },
  {
   "cell_type": "code",
   "execution_count": 11,
   "metadata": {},
   "outputs": [
    {
     "data": {
      "image/png": "[encoded data removed]",
      "text/plain": [
       "<Figure size 1500x1000 with 4 Axes>"
      ]
     },
     "metadata": {},
     "output_type": "display_data"
    }
   ],
   "source": [
    "fig, axs = plt.subplots(2,2,figsize=(15,10))\n",
    "\n",
    "axs[0, 0].plot(train_losses)\n",
    "axs[0, 0].set_title(\"Training Loss\")\n",
    "\n",
    "axs[1, 0].plot(train_acc)\n",
    "axs[1, 0].set_title(\"Training Accuracy\")\n",
    "\n",
    "axs[0, 1].plot(test_losses)\n",
    "axs[0, 1].set_title(\"Test Loss\")\n",
    "\n",
    "axs[1, 1].plot(test_acc)\n",
    "axs[1, 1].set_title(\"Test Accuracy\")\n",
    "plt.show()"
   ]
  },
  {
   "cell_type": "code",
   "execution_count": 12,
   "metadata": {},
   "outputs": [
    {
     "name": "stdout",
     "output_type": "stream",
     "text": [
      "0.13065974414348602 0.3015038073062897\n"
     ]
    }
   ],
   "source": [
    "mnist_data = datasets.MNIST( root=config['data'].get('dir_path'), download=False, transform=transforms.ToTensor() ,)\n",
    "mean,std= calculate_mean_std_mnist(mnist_data)\n",
    "\n",
    "print(mean,std)"
   ]
  }
 ],
 "metadata": {
  "kernelspec": {
   "display_name": "venv",
   "language": "python",
   "name": "python3"
  },
  "language_info": {
   "codemirror_mode": {
    "name": "ipython",
    "version": 3
   },
   "file_extension": ".py",
   "mimetype": "text/x-python",
   "name": "python",
   "nbconvert_exporter": "python",
   "pygments_lexer": "ipython3",
   "version": "3.12.9"
  }
 },
 "nbformat": 4,
 "nbformat_minor": 4
}
