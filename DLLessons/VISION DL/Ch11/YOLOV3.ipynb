{
 "cells": [
  {
   "cell_type": "code",
   "execution_count": null,
   "id": "d08f74f3",
   "metadata": {},
   "outputs": [],
   "source": [
    "import torch\n",
    "import gc \n",
    "import lightning as pl \n",
    "\n",
    "gc.collect()\n",
    "torch.cuda.empty_cache()\n",
    "torch.set_float32_matmul_precision(\"medium\")"
   ]
  },
  {
   "cell_type": "code",
   "execution_count": null,
   "id": "4d320ddf",
   "metadata": {},
   "outputs": [],
   "source": [
    "from Yolov3 import config\n",
    "from Yolov3.datamodule import YOLODataModule\n",
    "from Yolov3.yoloplnet import LitYOLONet"
   ]
  },
  {
   "cell_type": "code",
   "execution_count": null,
   "id": "5b9a8513",
   "metadata": {},
   "outputs": [],
   "source": [
    "data_module = YOLODataModule(\n",
    "    DATASET=config.DATASET,\n",
    "    ANCHORS=config.ANCHORS,\n",
    "    class_names=config.PASCAL_CLASSES,\n",
    "    IMAGE_SIZE=config.IMAGE_SIZE,\n",
    "    TRAIN_IMAGE_SIZES=config.TARGET_IMAGE_SIZE,\n",
    "    S=config.SA,\n",
    "    batch_size=config.BATCH_SIZE,\n",
    "    num_workers=config.NUM_WORKERS,\n",
    "    pin_memory=config.PIN_MEMORY,\n",
    "    train_transforms=config.train_transforms,\n",
    "    test_transforms=config.test_transforms,\n",
    ")"
   ]
  },
  {
   "cell_type": "code",
   "execution_count": null,
   "id": "a626e8d8",
   "metadata": {},
   "outputs": [],
   "source": [
    "model = LitYOLONet(\n",
    "    device=config.DEVICE,\n",
    "    lr=config.LEARNING_RATE,\n",
    ")"
   ]
  },
  {
   "cell_type": "code",
   "execution_count": null,
   "id": "99a7816d",
   "metadata": {},
   "outputs": [],
   "source": [
    "# training\n",
    "trainer = pl.Trainer(\n",
    "    log_every_n_steps=1,\n",
    "    callbacks=[\n",
    "    ],\n",
    "    precision= \"16-mixed\",\n",
    "    accelerator=\"gpu\",\n",
    "    devices=\"auto\",\n",
    "    strategy=\"auto\",\n",
    "    check_val_every_n_epoch=1,\n",
    "    # limit_train_batches=5,\n",
    "    # limit_val_batches=1,\n",
    "    # limit_test_batches=1,\n",
    "    max_epochs=20 ,\n",
    "    # max_epochs=10,\n",
    ")"
   ]
  },
  {
   "cell_type": "code",
   "execution_count": null,
   "id": "9663d102",
   "metadata": {},
   "outputs": [],
   "source": [
    "trainer.fit(model,data_module) # type: ignore"
   ]
  },
  {
   "cell_type": "code",
   "execution_count": null,
   "id": "92e2d4cb",
   "metadata": {},
   "outputs": [],
   "source": []
  }
 ],
 "metadata": {
  "kernelspec": {
   "display_name": "venv",
   "language": "python",
   "name": "python3"
  },
  "language_info": {
   "codemirror_mode": {
    "name": "ipython",
    "version": 3
   },
   "file_extension": ".py",
   "mimetype": "text/x-python",
   "name": "python",
   "nbconvert_exporter": "python",
   "pygments_lexer": "ipython3",
   "version": "3.12.9"
  }
 },
 "nbformat": 4,
 "nbformat_minor": 5
}
