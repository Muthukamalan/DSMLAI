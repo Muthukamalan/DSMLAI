{
 "cells": [
  {
   "cell_type": "code",
   "execution_count": null,
   "id": "92835976",
   "metadata": {},
   "outputs": [],
   "source": [
    "import os \n",
    "from pathlib import Path\n",
    "import re\n",
    "from typing import List,Optional,Dict,Callable,Never"
   ]
  },
  {
   "cell_type": "code",
   "execution_count": null,
   "id": "88a89bf2",
   "metadata": {},
   "outputs": [],
   "source": [
    "with open(Path(os.path.join(\"assets\",\"songs.txt\")),encoding=\"utf-8\") as f:\n",
    "    raw_song = f.read()\n",
    "\n",
    "with open(Path(os.path.join(\"assets\",\"texts.txt\")),encoding=\"utf-8\") as f:\n",
    "    raw_text = f.read()"
   ]
  },
  {
   "cell_type": "code",
   "execution_count": null,
   "id": "fb5a4188",
   "metadata": {},
   "outputs": [],
   "source": [
    "def vocab_prepare(text,*,extended_tokens:List[str]=[\"<|endoftext|>\", \"<|unk|>\"],verbose:bool=True)->Dict[str,int]:\n",
    "    preprocessed = re.split(r'([,.:;?_!\"()\\']|--|\\s)', text)\n",
    "    preprocessed = [item.strip() for item in preprocessed if item.strip()]\n",
    "    all_words = sorted(set(preprocessed))\n",
    "    all_words.extend(extended_tokens)\n",
    "    vocab_size = len(all_words)\n",
    "    vocab = {token:integer for integer,token in enumerate(all_words)}\n",
    "    if verbose:\n",
    "        print(f\"total vocab size is, {vocab_size}\")\n",
    "    return vocab"
   ]
  },
  {
   "cell_type": "code",
   "execution_count": null,
   "id": "1eff97eb",
   "metadata": {},
   "outputs": [],
   "source": [
    "class SimpleTokenizerV1:\n",
    "    def __init__(self,vocab:Dict[str,int]) -> None:\n",
    "        self.str_to_int:Dict = vocab\n",
    "        self.int_to_str:Dict = {i:s for s,i in vocab.items()}\n",
    "        \n",
    "    def encode(self,text:str)->List[int]:\n",
    "        preprocessed = re.split(pattern=r'''([,.:;?_!\"()\\']|--|\\s)''', string=text) \n",
    "        preprocessed = [item.strip() for item in preprocessed if item.strip()]\n",
    "\n",
    "        preprocessed = [ item  if item in self.str_to_int else \"<|unk|>\" for item in preprocessed ]\n",
    "\n",
    "        ids = [self.str_to_int[s] for s in preprocessed]\n",
    "        return ids\n",
    "    \n",
    "    def decode(self,ids:List[int])->str:\n",
    "        text = \" \".join([self.int_to_str[i] for i in ids])\n",
    "        text = re.sub(r'\\s+([,.?!\"()\\'])', r'\\1',text)\n",
    "        return text"
   ]
  },
  {
   "cell_type": "code",
   "execution_count": null,
   "id": "5070667d",
   "metadata": {},
   "outputs": [],
   "source": [
    "spl_tokens = [\"<|endoftext|>\", \"<|unk|>\"]\n",
    "eng_vocab = vocab_prepare(text=raw_text,extended_tokens=spl_tokens)"
   ]
  },
  {
   "cell_type": "code",
   "execution_count": null,
   "id": "67ac09e8",
   "metadata": {},
   "outputs": [],
   "source": [
    "tokenizerv1 = SimpleTokenizerV1(vocab=eng_vocab)"
   ]
  },
  {
   "cell_type": "code",
   "execution_count": null,
   "id": "c887644b",
   "metadata": {},
   "outputs": [],
   "source": [
    "tokenizerv1.decode(tokenizerv1.encode(\"He laughed again, and loved her\"))"
   ]
  },
  {
   "cell_type": "markdown",
   "id": "170506b9",
   "metadata": {},
   "source": [
    "Some of these special tokens are\n",
    "\n",
    "- `[BOS]` (beginning of sequence) marks the beginning of text\n",
    "- `[EOS]` (end of sequence) marks where the text ends (this is usually used to concatenate multiple unrelated texts, e.g., two different Wikipedia articles or two different books, and so on)\n",
    "- `[PAD]` (padding) if we train LLMs with a batch size greater than 1 (we may include multiple texts with different lengths; with the padding token we pad the shorter texts to the longest length so that all texts have an equal length)\n",
    "- `[UNK]` to represent words that are not included in the vocabulary"
   ]
  },
  {
   "cell_type": "code",
   "execution_count": null,
   "id": "f4869685",
   "metadata": {},
   "outputs": [],
   "source": [
    "import tiktoken"
   ]
  },
  {
   "cell_type": "code",
   "execution_count": null,
   "id": "8008be78",
   "metadata": {},
   "outputs": [],
   "source": [
    "tokenizerv2 = tiktoken.get_encoding(\"p50k_base\")\n",
    "print(f\"{tokenizerv2._pat_str=}\")\n",
    "print(f\"{tokenizerv2._mergeable_ranks=}\")\n",
    "print(f\"{tokenizerv2._special_tokens=}\")\n",
    "print(f\"{tokenizerv2.special_tokens_set=}\")\n",
    "print(f\"{tokenizerv2.n_vocab=}\")"
   ]
  },
  {
   "cell_type": "code",
   "execution_count": null,
   "id": "dc270e27",
   "metadata": {},
   "outputs": [],
   "source": [
    "tokenizerv2.encode(text=\"I loved her as Revathi\",allowed_special={\"<endoftext>\"})"
   ]
  },
  {
   "cell_type": "code",
   "execution_count": null,
   "id": "30408bea",
   "metadata": {},
   "outputs": [],
   "source": [
    "tokenizerv2.decode([40, 6151, 607, 355, 5416, 44202])"
   ]
  },
  {
   "cell_type": "markdown",
   "id": "300c00ac",
   "metadata": {},
   "source": [
    "# Embedding"
   ]
  },
  {
   "cell_type": "code",
   "execution_count": 1,
   "id": "461e6fc8",
   "metadata": {},
   "outputs": [],
   "source": [
    "import torch \n",
    "from torch.utils.data.dataset import Dataset\n",
    "from torch.utils.data.dataloader import DataLoader,default_collate\n",
    "from tqdm  import tqdm \n",
    "import tiktoken\n",
    "import os \n",
    "from pathlib import Path"
   ]
  },
  {
   "cell_type": "code",
   "execution_count": 2,
   "id": "d59910e4",
   "metadata": {},
   "outputs": [],
   "source": [
    "class GPTDataset(Dataset):\n",
    "    def __init__(self,txt:str, tokenizer:tiktoken.Encoding, max_length:int,stride:int) -> None:\n",
    "        self.input_ids = []\n",
    "        self.target_ids = []\n",
    "\n",
    "        token_ids = tokenizer.encode(text=txt,allowed_special={\"<|endoftext|>\"})\n",
    "        assert len(token_ids) > max_length, \"Number of tokenized inputs must be equal to max_lenght+1\"\n",
    "\n",
    "        iterable = range(0,len(token_ids)-max_length,stride)\n",
    "        for i in tqdm(iterable):\n",
    "            inp_chunk = token_ids[i:i+max_length]\n",
    "            oup_chunk = token_ids[i+1:i+max_length+1]\n",
    "            self.input_ids.append(torch.tensor(inp_chunk))\n",
    "            self.target_ids.append(torch.tensor(oup_chunk))\n",
    "\n",
    "    def __len__(self)->int:\n",
    "        return len(self.input_ids)\n",
    "    \n",
    "    def __getitem__(self, index) -> tuple:\n",
    "        return self.input_ids[index],self.target_ids[index]\n",
    "    \n",
    "\n",
    "# An example using stride equal to the context length"
   ]
  },
  {
   "cell_type": "code",
   "execution_count": 3,
   "id": "0fc9ccc2",
   "metadata": {},
   "outputs": [
    {
     "name": "stderr",
     "output_type": "stream",
     "text": [
      "100%|██████████| 4637/4637 [00:00<00:00, 11114.65it/s]\n"
     ]
    }
   ],
   "source": [
    "with open(Path(os.path.join(\"assets\",\"texts.txt\")),encoding=\"utf-8\") as f:\n",
    "    raw_text = f.read()\n",
    "\n",
    "tokenizerv2 = tiktoken.get_encoding('gpt2')\n",
    "ds = GPTDataset(raw_text,tokenizerv2,512,1)"
   ]
  },
  {
   "cell_type": "code",
   "execution_count": 4,
   "id": "a6b21796",
   "metadata": {},
   "outputs": [],
   "source": [
    "dl = DataLoader(ds,batch_size=32,shuffle=True,drop_last=False)"
   ]
  },
  {
   "cell_type": "code",
   "execution_count": 5,
   "id": "bcda7363",
   "metadata": {},
   "outputs": [],
   "source": [
    "single_batch = next(iter(dl))"
   ]
  },
  {
   "cell_type": "code",
   "execution_count": null,
   "id": "75b22300",
   "metadata": {},
   "outputs": [
    {
     "name": "stdout",
     "output_type": "stream",
     "text": [
      "torch.Size([32, 512])\n",
      "<built-in method masked_fill of Tensor object at 0x73a65cc24b90>\n"
     ]
    }
   ],
   "source": [
    "inpb,outb = single_batch\n",
    "print(inpb.shape)\n",
    "print()"
   ]
  },
  {
   "cell_type": "code",
   "execution_count": 16,
   "id": "ba454a21",
   "metadata": {},
   "outputs": [
    {
     "data": {
      "text/plain": [
       "tensor([[  290, 13064,    13,  ...,   673,   531,  2407],\n",
       "        [  198,     1,  5812,  ...,  2627,   262,  4286],\n",
       "        [10597,  1115,   812,  ...,  3619,   338, 19992],\n",
       "        ...,\n",
       "        [  618,   520,  5493,  ...,   314,   508,  2067],\n",
       "        [ 5223,   438,     1,  ...,   470,   345,  1683],\n",
       "        [  475,   314,   836,  ...,   257,   410,  5040]])"
      ]
     },
     "execution_count": 16,
     "metadata": {},
     "output_type": "execute_result"
    }
   ],
   "source": [
    "inpb"
   ]
  },
  {
   "cell_type": "code",
   "execution_count": null,
   "id": "81b2a11e",
   "metadata": {},
   "outputs": [],
   "source": []
  }
 ],
 "metadata": {
  "kernelspec": {
   "display_name": "venv",
   "language": "python",
   "name": "python3"
  },
  "language_info": {
   "codemirror_mode": {
    "name": "ipython",
    "version": 3
   },
   "file_extension": ".py",
   "mimetype": "text/x-python",
   "name": "python",
   "nbconvert_exporter": "python",
   "pygments_lexer": "ipython3",
   "version": "3.12.9"
  }
 },
 "nbformat": 4,
 "nbformat_minor": 5
}
