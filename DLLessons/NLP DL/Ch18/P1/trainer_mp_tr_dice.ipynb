{
 "cells": [
  {
   "cell_type": "code",
   "execution_count": 1,
   "metadata": {},
   "outputs": [],
   "source": [
    "import torch\n",
    "import lightning.pytorch as pl\n",
    "from torchinfo import summary\n",
    "from lightning.pytorch.tuner import Tuner"
   ]
  },
  {
   "cell_type": "code",
   "execution_count": 2,
   "metadata": {},
   "outputs": [],
   "source": [
    "torch.set_float32_matmul_precision('medium')"
   ]
  },
  {
   "cell_type": "code",
   "execution_count": 3,
   "metadata": {},
   "outputs": [],
   "source": [
    "from data import OxfordPetDatamodule\n",
    "from model import LitUNet\n",
    "from transformation import mask_transforms,img_trasfroms"
   ]
  },
  {
   "cell_type": "code",
   "execution_count": 4,
   "metadata": {},
   "outputs": [],
   "source": [
    "dm = OxfordPetDatamodule(transforms=img_trasfroms,mask_transforms=mask_transforms,batch_size=16)\n",
    "dm.setup()"
   ]
  },
  {
   "cell_type": "code",
   "execution_count": 5,
   "metadata": {},
   "outputs": [],
   "source": [
    "model = LitUNet(\n",
    "    inchannels=3,\n",
    "    outchannels=3,\n",
    "    expansion_mode='transponse',\n",
    "    contraction_mode='maxpool',\n",
    "    channels_list=[16,32,64,128],\n",
    "    loss_fn='dice',\n",
    "    epoch=15,\n",
    "    lr=1e-4,\n",
    "    scheduler_step=len(dm.train_dataloader()),\n",
    ")"
   ]
  },
  {
   "cell_type": "code",
   "execution_count": 6,
   "metadata": {},
   "outputs": [
    {
     "data": {
      "text/plain": [
       "========================================================================================================================================================================================================\n",
       "Layer (type (var_name):depth-idx)                  Input Shape               Output Shape              Param #                   Param %                   Kernel Shape              Trainable\n",
       "========================================================================================================================================================================================================\n",
       "LitUNet (LitUNet)                                  [16, 3, 256, 256]         [16, 3, 256, 256]         --                             --                   --                        True\n",
       "├─UNet (net): 1-1                                  [16, 3, 256, 256]         [16, 3, 256, 256]         --                             --                   --                        True\n",
       "│    └─Encoder (encoder1): 2-1                     [16, 3, 256, 256]         [16, 16, 128, 128]        --                             --                   --                        True\n",
       "│    │    └─Sequential (conv): 3-1                 [16, 3, 256, 256]         [16, 16, 256, 256]        2,832                       0.59%                   --                        True\n",
       "│    │    └─MaxPool2d (downsample): 3-2            [16, 16, 256, 256]        [16, 16, 128, 128]        --                             --                   2                         --\n",
       "│    └─Encoder (encoder2): 2-2                     [16, 16, 128, 128]        [16, 32, 64, 64]          --                             --                   --                        True\n",
       "│    │    └─Sequential (conv): 3-3                 [16, 16, 128, 128]        [16, 32, 128, 128]        14,016                      2.90%                   --                        True\n",
       "│    │    └─MaxPool2d (downsample): 3-4            [16, 32, 128, 128]        [16, 32, 64, 64]          --                             --                   2                         --\n",
       "│    └─Encoder (encoder3): 2-3                     [16, 32, 64, 64]          [16, 64, 32, 32]          --                             --                   --                        True\n",
       "│    │    └─Sequential (conv): 3-5                 [16, 32, 64, 64]          [16, 64, 64, 64]          55,680                     11.52%                   --                        True\n",
       "│    │    └─MaxPool2d (downsample): 3-6            [16, 64, 64, 64]          [16, 64, 32, 32]          --                             --                   2                         --\n",
       "│    └─Encoder (encoder4): 2-4                     [16, 64, 32, 32]          [16, 128, 32, 32]         --                             --                   --                        True\n",
       "│    │    └─Sequential (conv): 3-7                 [16, 64, 32, 32]          [16, 128, 32, 32]         221,952                    45.91%                   --                        True\n",
       "│    └─Decoder (decoder1): 2-5                     [16, 128, 32, 32]         [16, 64, 64, 64]          --                             --                   --                        True\n",
       "│    │    └─ConvTranspose2d (expansion): 3-8       [16, 128, 32, 32]         [16, 64, 64, 64]          32,832                      6.79%                   [2, 2]                    True\n",
       "│    │    └─Sequential (conv): 3-9                 [16, 128, 64, 64]         [16, 64, 64, 64]          110,976                    22.95%                   --                        True\n",
       "│    └─Decoder (decoder2): 2-6                     [16, 64, 64, 64]          [16, 32, 128, 128]        --                             --                   --                        True\n",
       "│    │    └─ConvTranspose2d (expansion): 3-10      [16, 64, 64, 64]          [16, 32, 128, 128]        8,224                       1.70%                   [2, 2]                    True\n",
       "│    │    └─Sequential (conv): 3-11                [16, 64, 128, 128]        [16, 32, 128, 128]        27,840                      5.76%                   --                        True\n",
       "│    └─Decoder (decoder3): 2-7                     [16, 32, 128, 128]        [16, 16, 256, 256]        --                             --                   --                        True\n",
       "│    │    └─ConvTranspose2d (expansion): 3-12      [16, 32, 128, 128]        [16, 16, 256, 256]        2,064                       0.43%                   [2, 2]                    True\n",
       "│    │    └─Sequential (conv): 3-13                [16, 32, 256, 256]        [16, 16, 256, 256]        7,008                       1.45%                   --                        True\n",
       "│    └─Conv2d (final_conv): 2-8                    [16, 16, 256, 256]        [16, 3, 256, 256]         51                          0.01%                   [1, 1]                    True\n",
       "========================================================================================================================================================================================================\n",
       "Total params: 483,475\n",
       "Trainable params: 483,475\n",
       "Non-trainable params: 0\n",
       "Total mult-adds (G): 42.13\n",
       "========================================================================================================================================================================================================\n",
       "Input size (MB): 12.58\n",
       "Forward/backward pass size (MB): 2206.20\n",
       "Params size (MB): 1.93\n",
       "Estimated Total Size (MB): 2220.72\n",
       "========================================================================================================================================================================================================"
      ]
     },
     "execution_count": 6,
     "metadata": {},
     "output_type": "execute_result"
    }
   ],
   "source": [
    "summary(model=model, \n",
    "        input_size=(16, 3,256,256),\n",
    "        col_names=[ \"input_size\", \"output_size\", \"num_params\", \"params_percent\", \"kernel_size\", \"trainable\"],\n",
    "        row_settings=[\"depth\", \"var_names\"]\n",
    ")"
   ]
  },
  {
   "cell_type": "code",
   "execution_count": 7,
   "metadata": {},
   "outputs": [
    {
     "name": "stderr",
     "output_type": "stream",
     "text": [
      "GPU available: True (cuda), used: True\n",
      "TPU available: False, using: 0 TPU cores\n",
      "IPU available: False, using: 0 IPUs\n",
      "HPU available: False, using: 0 HPUs\n"
     ]
    }
   ],
   "source": [
    "trainer = pl.Trainer(\n",
    "    fast_dev_run=False,\n",
    "    max_epochs=15,\n",
    "    enable_model_summary=False,\n",
    "    enable_progress_bar=True,\n",
    "    # callbacks = [\n",
    "    #     # EarlyStopping(monitor='train_loss',mode='min',patience=3,verbose=False,check_on_train_epoch_end=True,check_finite=True,),\n",
    "    #     # LearningRateMonitor(logging_interval='step'),\n",
    "    #     # ModelCheckpoint(dirpath=\"experiment\",monitor='train_loss',enable_version_counter=True), \n",
    "    #     # ModelSummary(max_depth=-1),\n",
    "    #     # CSVLogger(save_dir='experiments/')\n",
    "    # ],\n",
    "    log_every_n_steps=30,\n",
    "    precision='32'\n",
    ")"
   ]
  },
  {
   "cell_type": "code",
   "execution_count": 8,
   "metadata": {},
   "outputs": [],
   "source": [
    "# tuner = Tuner(trainer)\n",
    "# lr_finder = tuner.lr_find(model=model, datamodule=dm)\n",
    "# maxlr = lr_finder.suggestion()\n",
    "# fig = lr_finder.plot(suggest=True)\n",
    "# model.lr = maxlr\n",
    "# model.max_lr = maxlr"
   ]
  },
  {
   "cell_type": "code",
   "execution_count": 9,
   "metadata": {},
   "outputs": [
    {
     "name": "stderr",
     "output_type": "stream",
     "text": [
      "Missing logger folder: c:\\Users\\muthu\\GitHub\\DL-Language 🫶\\Ch18\\P1\\lightning_logs\n",
      "LOCAL_RANK: 0 - CUDA_VISIBLE_DEVICES: [0]\n",
      "Loading `train_dataloader` to estimate number of stepping batches.\n",
      "c:\\Users\\muthu\\miniconda3\\envs\\venv\\lib\\site-packages\\lightning\\pytorch\\trainer\\connectors\\data_connector.py:441: The 'train_dataloader' does not have many workers which may be a bottleneck. Consider increasing the value of the `num_workers` argument` to `num_workers=15` in the `DataLoader` to improve performance.\n"
     ]
    },
    {
     "data": {
      "application/vnd.jupyter.widget-view+json": {
       "model_id": "07be41dc5ba14ed69e5d886a168f315f",
       "version_major": 2,
       "version_minor": 0
      },
      "text/plain": [
       "Sanity Checking: |          | 0/? [00:00<?, ?it/s]"
      ]
     },
     "metadata": {},
     "output_type": "display_data"
    },
    {
     "name": "stderr",
     "output_type": "stream",
     "text": [
      "c:\\Users\\muthu\\miniconda3\\envs\\venv\\lib\\site-packages\\lightning\\pytorch\\trainer\\connectors\\data_connector.py:441: The 'val_dataloader' does not have many workers which may be a bottleneck. Consider increasing the value of the `num_workers` argument` to `num_workers=15` in the `DataLoader` to improve performance.\n"
     ]
    },
    {
     "data": {
      "application/vnd.jupyter.widget-view+json": {
       "model_id": "a1d7e44d7c3a4acfacc52122a475f057",
       "version_major": 2,
       "version_minor": 0
      },
      "text/plain": [
       "Training: |          | 0/? [00:00<?, ?it/s]"
      ]
     },
     "metadata": {},
     "output_type": "display_data"
    },
    {
     "data": {
      "application/vnd.jupyter.widget-view+json": {
       "model_id": "68feb3cdc00848e19355e37779076436",
       "version_major": 2,
       "version_minor": 0
      },
      "text/plain": [
       "Validation: |          | 0/? [00:00<?, ?it/s]"
      ]
     },
     "metadata": {},
     "output_type": "display_data"
    },
    {
     "data": {
      "application/vnd.jupyter.widget-view+json": {
       "model_id": "6742024b49ad4ed383e6c846df73c617",
       "version_major": 2,
       "version_minor": 0
      },
      "text/plain": [
       "Validation: |          | 0/? [00:00<?, ?it/s]"
      ]
     },
     "metadata": {},
     "output_type": "display_data"
    },
    {
     "data": {
      "application/vnd.jupyter.widget-view+json": {
       "model_id": "79ad5207b090455bbf88bed2ce7105a7",
       "version_major": 2,
       "version_minor": 0
      },
      "text/plain": [
       "Validation: |          | 0/? [00:00<?, ?it/s]"
      ]
     },
     "metadata": {},
     "output_type": "display_data"
    },
    {
     "name": "stderr",
     "output_type": "stream",
     "text": [
      "c:\\Users\\muthu\\miniconda3\\envs\\venv\\lib\\site-packages\\lightning\\pytorch\\trainer\\call.py:54: Detected KeyboardInterrupt, attempting graceful shutdown...\n",
      "LOCAL_RANK: 0 - CUDA_VISIBLE_DEVICES: [0]\n"
     ]
    },
    {
     "data": {
      "application/vnd.jupyter.widget-view+json": {
       "model_id": "733dd094ac9649a0b29c153aa8346cd1",
       "version_major": 2,
       "version_minor": 0
      },
      "text/plain": [
       "Validation: |          | 0/? [00:00<?, ?it/s]"
      ]
     },
     "metadata": {},
     "output_type": "display_data"
    }
   ],
   "source": [
    "trainer.fit(model=model,datamodule=dm)\n",
    "trainer.validate(model=model,dataloaders=dm)"
   ]
  },
  {
   "cell_type": "code",
   "execution_count": null,
   "metadata": {},
   "outputs": [],
   "source": []
  }
 ],
 "metadata": {
  "kernelspec": {
   "display_name": "venv",
   "language": "python",
   "name": "python3"
  },
  "language_info": {
   "codemirror_mode": {
    "name": "ipython",
    "version": 3
   },
   "file_extension": ".py",
   "mimetype": "text/x-python",
   "name": "python",
   "nbconvert_exporter": "python",
   "pygments_lexer": "ipython3",
   "version": "3.10.14"
  }
 },
 "nbformat": 4,
 "nbformat_minor": 2
}
