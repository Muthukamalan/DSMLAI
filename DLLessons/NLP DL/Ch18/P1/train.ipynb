{
 "cells": [
  {
   "cell_type": "code",
   "execution_count": 1,
   "metadata": {},
   "outputs": [],
   "source": [
    "import torch\n",
    "from matplotlib import pyplot as plt\n",
    "import lightning.pytorch as pl\n",
    "from lightning.pytorch.loggers import TensorBoardLogger\n",
    "from lightning.pytorch.callbacks import LearningRateFinder,LearningRateMonitor,EarlyStopping,StochasticWeightAveraging,ModelPruning,ModelSummary,ModelCheckpoint\n",
    "from torchinfo import summary"
   ]
  },
  {
   "cell_type": "code",
   "execution_count": 2,
   "metadata": {},
   "outputs": [],
   "source": [
    "torch.set_float32_matmul_precision('medium')"
   ]
  },
  {
   "cell_type": "code",
   "execution_count": 3,
   "metadata": {},
   "outputs": [],
   "source": [
    "from data import OxfordPetDatamodule\n",
    "from model import UNet\n",
    "from transformation import mask_transforms,img_trasfroms"
   ]
  },
  {
   "cell_type": "code",
   "execution_count": 4,
   "metadata": {},
   "outputs": [],
   "source": [
    "dm = OxfordPetDatamodule(transforms=img_trasfroms,mask_transforms=mask_transforms,batch_size=16)\n",
    "dm.setup()"
   ]
  },
  {
   "cell_type": "code",
   "execution_count": 5,
   "metadata": {},
   "outputs": [],
   "source": [
    "model = UNet(\n",
    "    inchannels=3,\n",
    "    outchannels=3,\n",
    "    expansion_mode='upsample',\n",
    "    contraction_mode='maxpool',\n",
    "    channels_list=[16,32,64,128],\n",
    "    epoch=5,\n",
    "    lr=1e-4,\n",
    "    scheduler_step=len(dm.train_dataloader()),\n",
    ")"
   ]
  },
  {
   "cell_type": "code",
   "execution_count": 6,
   "metadata": {},
   "outputs": [
    {
     "data": {
      "text/plain": [
       "=======================================================================================================================================================================================================================\n",
       "Layer (type (var_name):depth-idx)        Input Shape               Output Shape              Param #                   Param %                   Kernel Shape              Mult-Adds                 Trainable\n",
       "=======================================================================================================================================================================================================================\n",
       "UNet (UNet)                              [62, 3, 256, 256]         [62, 3, 256, 256]         --                             --                   --                        --                        True\n",
       "├─Encoder (encoder1): 1-1                [62, 3, 256, 256]         [62, 16, 128, 128]        --                             --                   --                        --                        True\n",
       "│    └─Sequential (conv): 2-1            [62, 3, 256, 256]         [62, 16, 256, 256]        --                             --                   --                        --                        True\n",
       "│    │    └─Conv2d (0): 3-1              [62, 3, 256, 256]         [62, 16, 256, 256]        448                         0.08%                   [3, 3]                    1,820,327,936             True\n",
       "│    │    └─BatchNorm2d (1): 3-2         [62, 16, 256, 256]        [62, 16, 256, 256]        32                          0.01%                   --                        1,984                     True\n",
       "│    │    └─ReLU (2): 3-3                [62, 16, 256, 256]        [62, 16, 256, 256]        --                             --                   --                        --                        --\n",
       "│    │    └─Dropout2d (3): 3-4           [62, 16, 256, 256]        [62, 16, 256, 256]        --                             --                   --                        --                        --\n",
       "│    │    └─Conv2d (4): 3-5              [62, 16, 256, 256]        [62, 16, 256, 256]        2,320                       0.43%                   [3, 3]                    9,426,698,240             True\n",
       "│    │    └─BatchNorm2d (5): 3-6         [62, 16, 256, 256]        [62, 16, 256, 256]        32                          0.01%                   --                        1,984                     True\n",
       "│    │    └─ReLU (6): 3-7                [62, 16, 256, 256]        [62, 16, 256, 256]        --                             --                   --                        --                        --\n",
       "│    └─MaxPool2d (downsample): 2-2       [62, 16, 256, 256]        [62, 16, 128, 128]        --                             --                   2                         --                        --\n",
       "├─Encoder (encoder2): 1-2                [62, 16, 128, 128]        [62, 32, 64, 64]          --                             --                   --                        --                        True\n",
       "│    └─Sequential (conv): 2-3            [62, 16, 128, 128]        [62, 32, 128, 128]        --                             --                   --                        --                        True\n",
       "│    │    └─Conv2d (0): 3-8              [62, 16, 128, 128]        [62, 32, 128, 128]        4,640                       0.86%                   [3, 3]                    4,713,349,120             True\n",
       "│    │    └─BatchNorm2d (1): 3-9         [62, 32, 128, 128]        [62, 32, 128, 128]        64                          0.01%                   --                        3,968                     True\n",
       "│    │    └─ReLU (2): 3-10               [62, 32, 128, 128]        [62, 32, 128, 128]        --                             --                   --                        --                        --\n",
       "│    │    └─Dropout2d (3): 3-11          [62, 32, 128, 128]        [62, 32, 128, 128]        --                             --                   --                        --                        --\n",
       "│    │    └─Conv2d (4): 3-12             [62, 32, 128, 128]        [62, 32, 128, 128]        9,248                       1.72%                   [3, 3]                    9,394,192,384             True\n",
       "│    │    └─BatchNorm2d (5): 3-13        [62, 32, 128, 128]        [62, 32, 128, 128]        64                          0.01%                   --                        3,968                     True\n",
       "│    │    └─ReLU (6): 3-14               [62, 32, 128, 128]        [62, 32, 128, 128]        --                             --                   --                        --                        --\n",
       "│    └─MaxPool2d (downsample): 2-4       [62, 32, 128, 128]        [62, 32, 64, 64]          --                             --                   2                         --                        --\n",
       "├─Encoder (encoder3): 1-3                [62, 32, 64, 64]          [62, 64, 32, 32]          --                             --                   --                        --                        True\n",
       "│    └─Sequential (conv): 2-5            [62, 32, 64, 64]          [62, 64, 64, 64]          --                             --                   --                        --                        True\n",
       "│    │    └─Conv2d (0): 3-15             [62, 32, 64, 64]          [62, 64, 64, 64]          18,496                      3.44%                   [3, 3]                    4,697,096,192             True\n",
       "│    │    └─BatchNorm2d (1): 3-16        [62, 64, 64, 64]          [62, 64, 64, 64]          128                         0.02%                   --                        7,936                     True\n",
       "│    │    └─ReLU (2): 3-17               [62, 64, 64, 64]          [62, 64, 64, 64]          --                             --                   --                        --                        --\n",
       "│    │    └─Dropout2d (3): 3-18          [62, 64, 64, 64]          [62, 64, 64, 64]          --                             --                   --                        --                        --\n",
       "│    │    └─Conv2d (4): 3-19             [62, 64, 64, 64]          [62, 64, 64, 64]          36,928                      6.87%                   [3, 3]                    9,377,939,456             True\n",
       "│    │    └─BatchNorm2d (5): 3-20        [62, 64, 64, 64]          [62, 64, 64, 64]          128                         0.02%                   --                        7,936                     True\n",
       "│    │    └─ReLU (6): 3-21               [62, 64, 64, 64]          [62, 64, 64, 64]          --                             --                   --                        --                        --\n",
       "│    └─MaxPool2d (downsample): 2-6       [62, 64, 64, 64]          [62, 64, 32, 32]          --                             --                   2                         --                        --\n",
       "├─Encoder (encoder4): 1-4                [62, 64, 32, 32]          [62, 128, 32, 32]         --                             --                   --                        --                        True\n",
       "│    └─Sequential (conv): 2-7            [62, 64, 32, 32]          [62, 128, 32, 32]         --                             --                   --                        --                        True\n",
       "│    │    └─Conv2d (0): 3-22             [62, 64, 32, 32]          [62, 128, 32, 32]         73,856                     13.75%                   [3, 3]                    4,688,969,728             True\n",
       "│    │    └─BatchNorm2d (1): 3-23        [62, 128, 32, 32]         [62, 128, 32, 32]         256                         0.05%                   --                        15,872                    True\n",
       "│    │    └─ReLU (2): 3-24               [62, 128, 32, 32]         [62, 128, 32, 32]         --                             --                   --                        --                        --\n",
       "│    │    └─Dropout2d (3): 3-25          [62, 128, 32, 32]         [62, 128, 32, 32]         --                             --                   --                        --                        --\n",
       "│    │    └─Conv2d (4): 3-26             [62, 128, 32, 32]         [62, 128, 32, 32]         147,584                    27.47%                   [3, 3]                    9,369,812,992             True\n",
       "│    │    └─BatchNorm2d (5): 3-27        [62, 128, 32, 32]         [62, 128, 32, 32]         256                         0.05%                   --                        15,872                    True\n",
       "│    │    └─ReLU (6): 3-28               [62, 128, 32, 32]         [62, 128, 32, 32]         --                             --                   --                        --                        --\n",
       "├─Decoder (decoder1): 1-5                [62, 128, 32, 32]         [62, 64, 64, 64]          --                             --                   --                        --                        True\n",
       "│    └─Sequential (expansion): 2-8       [62, 128, 32, 32]         [62, 64, 64, 64]          --                             --                   --                        --                        True\n",
       "│    │    └─Upsample (0): 3-29           [62, 128, 32, 32]         [62, 128, 64, 64]         --                             --                   --                        --                        --\n",
       "│    │    └─Conv2d (1): 3-30             [62, 128, 64, 64]         [62, 64, 64, 64]          73,792                     13.74%                   [3, 3]                    18,739,625,984            True\n",
       "│    └─Sequential (conv): 2-9            [62, 128, 64, 64]         [62, 64, 64, 64]          --                             --                   --                        --                        True\n",
       "│    │    └─Conv2d (0): 3-31             [62, 128, 64, 64]         [62, 64, 64, 64]          73,792                     13.74%                   [3, 3]                    18,739,625,984            True\n",
       "│    │    └─BatchNorm2d (1): 3-32        [62, 64, 64, 64]          [62, 64, 64, 64]          128                         0.02%                   --                        7,936                     True\n",
       "│    │    └─Dropout2d (2): 3-33          [62, 64, 64, 64]          [62, 64, 64, 64]          --                             --                   --                        --                        --\n",
       "│    │    └─ReLU (3): 3-34               [62, 64, 64, 64]          [62, 64, 64, 64]          --                             --                   --                        --                        --\n",
       "│    │    └─Conv2d (4): 3-35             [62, 64, 64, 64]          [62, 64, 64, 64]          36,928                      6.87%                   [3, 3]                    9,377,939,456             True\n",
       "│    │    └─BatchNorm2d (5): 3-36        [62, 64, 64, 64]          [62, 64, 64, 64]          128                         0.02%                   --                        7,936                     True\n",
       "│    │    └─Dropout2d (6): 3-37          [62, 64, 64, 64]          [62, 64, 64, 64]          --                             --                   --                        --                        --\n",
       "│    │    └─ReLU (7): 3-38               [62, 64, 64, 64]          [62, 64, 64, 64]          --                             --                   --                        --                        --\n",
       "├─Decoder (decoder2): 1-6                [62, 64, 64, 64]          [62, 32, 128, 128]        --                             --                   --                        --                        True\n",
       "│    └─Sequential (expansion): 2-10      [62, 64, 64, 64]          [62, 32, 128, 128]        --                             --                   --                        --                        True\n",
       "│    │    └─Upsample (0): 3-39           [62, 64, 64, 64]          [62, 64, 128, 128]        --                             --                   --                        --                        --\n",
       "│    │    └─Conv2d (1): 3-40             [62, 64, 128, 128]        [62, 32, 128, 128]        18,464                      3.44%                   [3, 3]                    18,755,878,912            True\n",
       "│    └─Sequential (conv): 2-11           [62, 64, 128, 128]        [62, 32, 128, 128]        --                             --                   --                        --                        True\n",
       "│    │    └─Conv2d (0): 3-41             [62, 64, 128, 128]        [62, 32, 128, 128]        18,464                      3.44%                   [3, 3]                    18,755,878,912            True\n",
       "│    │    └─BatchNorm2d (1): 3-42        [62, 32, 128, 128]        [62, 32, 128, 128]        64                          0.01%                   --                        3,968                     True\n",
       "│    │    └─Dropout2d (2): 3-43          [62, 32, 128, 128]        [62, 32, 128, 128]        --                             --                   --                        --                        --\n",
       "│    │    └─ReLU (3): 3-44               [62, 32, 128, 128]        [62, 32, 128, 128]        --                             --                   --                        --                        --\n",
       "│    │    └─Conv2d (4): 3-45             [62, 32, 128, 128]        [62, 32, 128, 128]        9,248                       1.72%                   [3, 3]                    9,394,192,384             True\n",
       "│    │    └─BatchNorm2d (5): 3-46        [62, 32, 128, 128]        [62, 32, 128, 128]        64                          0.01%                   --                        3,968                     True\n",
       "│    │    └─Dropout2d (6): 3-47          [62, 32, 128, 128]        [62, 32, 128, 128]        --                             --                   --                        --                        --\n",
       "│    │    └─ReLU (7): 3-48               [62, 32, 128, 128]        [62, 32, 128, 128]        --                             --                   --                        --                        --\n",
       "├─Decoder (decoder3): 1-7                [62, 32, 128, 128]        [62, 16, 256, 256]        --                             --                   --                        --                        True\n",
       "│    └─Sequential (expansion): 2-12      [62, 32, 128, 128]        [62, 16, 256, 256]        --                             --                   --                        --                        True\n",
       "│    │    └─Upsample (0): 3-49           [62, 32, 128, 128]        [62, 32, 256, 256]        --                             --                   --                        --                        --\n",
       "│    │    └─Conv2d (1): 3-50             [62, 32, 256, 256]        [62, 16, 256, 256]        4,624                       0.86%                   [3, 3]                    18,788,384,768            True\n",
       "│    └─Sequential (conv): 2-13           [62, 32, 256, 256]        [62, 16, 256, 256]        --                             --                   --                        --                        True\n",
       "│    │    └─Conv2d (0): 3-51             [62, 32, 256, 256]        [62, 16, 256, 256]        4,624                       0.86%                   [3, 3]                    18,788,384,768            True\n",
       "│    │    └─BatchNorm2d (1): 3-52        [62, 16, 256, 256]        [62, 16, 256, 256]        32                          0.01%                   --                        1,984                     True\n",
       "│    │    └─Dropout2d (2): 3-53          [62, 16, 256, 256]        [62, 16, 256, 256]        --                             --                   --                        --                        --\n",
       "│    │    └─ReLU (3): 3-54               [62, 16, 256, 256]        [62, 16, 256, 256]        --                             --                   --                        --                        --\n",
       "│    │    └─Conv2d (4): 3-55             [62, 16, 256, 256]        [62, 16, 256, 256]        2,320                       0.43%                   [3, 3]                    9,426,698,240             True\n",
       "│    │    └─BatchNorm2d (5): 3-56        [62, 16, 256, 256]        [62, 16, 256, 256]        32                          0.01%                   --                        1,984                     True\n",
       "│    │    └─Dropout2d (6): 3-57          [62, 16, 256, 256]        [62, 16, 256, 256]        --                             --                   --                        --                        --\n",
       "│    │    └─ReLU (7): 3-58               [62, 16, 256, 256]        [62, 16, 256, 256]        --                             --                   --                        --                        --\n",
       "├─Conv2d (final_conv): 1-8               [62, 16, 256, 256]        [62, 3, 256, 256]         51                          0.01%                   [1, 1]                    207,224,832               True\n",
       "=======================================================================================================================================================================================================================\n",
       "Total params: 537,235\n",
       "Trainable params: 537,235\n",
       "Non-trainable params: 0\n",
       "Total mult-adds (G): 194.46\n",
       "=======================================================================================================================================================================================================================\n",
       "Input size (MB): 48.76\n",
       "Forward/backward pass size (MB): 8549.04\n",
       "Params size (MB): 2.15\n",
       "Estimated Total Size (MB): 8599.95\n",
       "======================================================================================================================================================================================================================="
      ]
     },
     "execution_count": 6,
     "metadata": {},
     "output_type": "execute_result"
    }
   ],
   "source": [
    "summary(model=model, \n",
    "        input_size=(62,3,256,256),\n",
    "        col_names=[ \"input_size\", \"output_size\", \"num_params\", \"params_percent\", \"kernel_size\", \"trainable\"],\n",
    "        row_settings=[\"depth\", \"var_names\"]\n",
    ")"
   ]
  },
  {
   "cell_type": "code",
   "execution_count": 7,
   "metadata": {},
   "outputs": [
    {
     "name": "stderr",
     "output_type": "stream",
     "text": [
      "Using 16bit Automatic Mixed Precision (AMP)\n",
      "GPU available: True (cuda), used: True\n",
      "TPU available: False, using: 0 TPU cores\n",
      "IPU available: False, using: 0 IPUs\n",
      "HPU available: False, using: 0 HPUs\n"
     ]
    }
   ],
   "source": [
    "trainer = pl.Trainer(\n",
    "    fast_dev_run=False,\n",
    "    max_epochs=15,\n",
    "    enable_model_summary=False,\n",
    "    enable_progress_bar=True,\n",
    "    callbacks = [\n",
    "        # EarlyStopping(monitor='train_loss',mode='min',patience=3,verbose=False,check_on_train_epoch_end=True,check_finite=True,),\n",
    "        LearningRateMonitor(logging_interval='step',),\n",
    "        # ModelCheckpoint(dirpath=\"experiment\",monitor='train_loss',enable_version_counter=True), \n",
    "        ModelSummary(max_depth=-1)\n",
    "    ],\n",
    "    log_every_n_steps=30,\n",
    "    precision='16-mixed'\n",
    ")"
   ]
  },
  {
   "cell_type": "code",
   "execution_count": 8,
   "metadata": {},
   "outputs": [
    {
     "name": "stderr",
     "output_type": "stream",
     "text": [
      "LOCAL_RANK: 0 - CUDA_VISIBLE_DEVICES: [0]\n",
      "Loading `train_dataloader` to estimate number of stepping batches.\n",
      "c:\\Users\\muthu\\miniconda3\\envs\\venv\\lib\\site-packages\\lightning\\pytorch\\trainer\\connectors\\data_connector.py:441: The 'train_dataloader' does not have many workers which may be a bottleneck. Consider increasing the value of the `num_workers` argument` to `num_workers=15` in the `DataLoader` to improve performance.\n",
      "\n",
      "   | Name                 | Type        | Params\n",
      "------------------------------------------------------\n",
      "0  | encoder1             | Encoder     | 2.8 K \n",
      "1  | encoder1.conv        | Sequential  | 2.8 K \n",
      "2  | encoder1.conv.0      | Conv2d      | 448   \n",
      "3  | encoder1.conv.1      | BatchNorm2d | 32    \n",
      "4  | encoder1.conv.2      | ReLU        | 0     \n",
      "5  | encoder1.conv.3      | Dropout2d   | 0     \n",
      "6  | encoder1.conv.4      | Conv2d      | 2.3 K \n",
      "7  | encoder1.conv.5      | BatchNorm2d | 32    \n",
      "8  | encoder1.conv.6      | ReLU        | 0     \n",
      "9  | encoder1.downsample  | MaxPool2d   | 0     \n",
      "10 | encoder2             | Encoder     | 14.0 K\n",
      "11 | encoder2.conv        | Sequential  | 14.0 K\n",
      "12 | encoder2.conv.0      | Conv2d      | 4.6 K \n",
      "13 | encoder2.conv.1      | BatchNorm2d | 64    \n",
      "14 | encoder2.conv.2      | ReLU        | 0     \n",
      "15 | encoder2.conv.3      | Dropout2d   | 0     \n",
      "16 | encoder2.conv.4      | Conv2d      | 9.2 K \n",
      "17 | encoder2.conv.5      | BatchNorm2d | 64    \n",
      "18 | encoder2.conv.6      | ReLU        | 0     \n",
      "19 | encoder2.downsample  | MaxPool2d   | 0     \n",
      "20 | encoder3             | Encoder     | 55.7 K\n",
      "21 | encoder3.conv        | Sequential  | 55.7 K\n",
      "22 | encoder3.conv.0      | Conv2d      | 18.5 K\n",
      "23 | encoder3.conv.1      | BatchNorm2d | 128   \n",
      "24 | encoder3.conv.2      | ReLU        | 0     \n",
      "25 | encoder3.conv.3      | Dropout2d   | 0     \n",
      "26 | encoder3.conv.4      | Conv2d      | 36.9 K\n",
      "27 | encoder3.conv.5      | BatchNorm2d | 128   \n",
      "28 | encoder3.conv.6      | ReLU        | 0     \n",
      "29 | encoder3.downsample  | MaxPool2d   | 0     \n",
      "30 | encoder4             | Encoder     | 221 K \n",
      "31 | encoder4.conv        | Sequential  | 221 K \n",
      "32 | encoder4.conv.0      | Conv2d      | 73.9 K\n",
      "33 | encoder4.conv.1      | BatchNorm2d | 256   \n",
      "34 | encoder4.conv.2      | ReLU        | 0     \n",
      "35 | encoder4.conv.3      | Dropout2d   | 0     \n",
      "36 | encoder4.conv.4      | Conv2d      | 147 K \n",
      "37 | encoder4.conv.5      | BatchNorm2d | 256   \n",
      "38 | encoder4.conv.6      | ReLU        | 0     \n",
      "39 | encoder4.downsample  | MaxPool2d   | 0     \n",
      "40 | decoder1             | Decoder     | 184 K \n",
      "41 | decoder1.conv        | Sequential  | 110 K \n",
      "42 | decoder1.conv.0      | Conv2d      | 73.8 K\n",
      "43 | decoder1.conv.1      | BatchNorm2d | 128   \n",
      "44 | decoder1.conv.2      | Dropout2d   | 0     \n",
      "45 | decoder1.conv.3      | ReLU        | 0     \n",
      "46 | decoder1.conv.4      | Conv2d      | 36.9 K\n",
      "47 | decoder1.conv.5      | BatchNorm2d | 128   \n",
      "48 | decoder1.conv.6      | Dropout2d   | 0     \n",
      "49 | decoder1.conv.7      | ReLU        | 0     \n",
      "50 | decoder1.expansion   | Sequential  | 73.8 K\n",
      "51 | decoder1.expansion.0 | Upsample    | 0     \n",
      "52 | decoder1.expansion.1 | Conv2d      | 73.8 K\n",
      "53 | decoder2             | Decoder     | 46.3 K\n",
      "54 | decoder2.conv        | Sequential  | 27.8 K\n",
      "55 | decoder2.conv.0      | Conv2d      | 18.5 K\n",
      "56 | decoder2.conv.1      | BatchNorm2d | 64    \n",
      "57 | decoder2.conv.2      | Dropout2d   | 0     \n",
      "58 | decoder2.conv.3      | ReLU        | 0     \n",
      "59 | decoder2.conv.4      | Conv2d      | 9.2 K \n",
      "60 | decoder2.conv.5      | BatchNorm2d | 64    \n",
      "61 | decoder2.conv.6      | Dropout2d   | 0     \n",
      "62 | decoder2.conv.7      | ReLU        | 0     \n",
      "63 | decoder2.expansion   | Sequential  | 18.5 K\n",
      "64 | decoder2.expansion.0 | Upsample    | 0     \n",
      "65 | decoder2.expansion.1 | Conv2d      | 18.5 K\n",
      "66 | decoder3             | Decoder     | 11.6 K\n",
      "67 | decoder3.conv        | Sequential  | 7.0 K \n",
      "68 | decoder3.conv.0      | Conv2d      | 4.6 K \n",
      "69 | decoder3.conv.1      | BatchNorm2d | 32    \n",
      "70 | decoder3.conv.2      | Dropout2d   | 0     \n",
      "71 | decoder3.conv.3      | ReLU        | 0     \n",
      "72 | decoder3.conv.4      | Conv2d      | 2.3 K \n",
      "73 | decoder3.conv.5      | BatchNorm2d | 32    \n",
      "74 | decoder3.conv.6      | Dropout2d   | 0     \n",
      "75 | decoder3.conv.7      | ReLU        | 0     \n",
      "76 | decoder3.expansion   | Sequential  | 4.6 K \n",
      "77 | decoder3.expansion.0 | Upsample    | 0     \n",
      "78 | decoder3.expansion.1 | Conv2d      | 4.6 K \n",
      "79 | final_conv           | Conv2d      | 51    \n",
      "------------------------------------------------------\n",
      "537 K     Trainable params\n",
      "0         Non-trainable params\n",
      "537 K     Total params\n",
      "2.149     Total estimated model params size (MB)\n"
     ]
    },
    {
     "data": {
      "application/vnd.jupyter.widget-view+json": {
       "model_id": "4f64359fe4dc41dd87a823523669c5e9",
       "version_major": 2,
       "version_minor": 0
      },
      "text/plain": [
       "Sanity Checking: |          | 0/? [00:00<?, ?it/s]"
      ]
     },
     "metadata": {},
     "output_type": "display_data"
    },
    {
     "name": "stderr",
     "output_type": "stream",
     "text": [
      "c:\\Users\\muthu\\miniconda3\\envs\\venv\\lib\\site-packages\\lightning\\pytorch\\trainer\\connectors\\data_connector.py:441: The 'val_dataloader' does not have many workers which may be a bottleneck. Consider increasing the value of the `num_workers` argument` to `num_workers=15` in the `DataLoader` to improve performance.\n"
     ]
    },
    {
     "data": {
      "application/vnd.jupyter.widget-view+json": {
       "model_id": "f8656c1a55294b8e972c78a688878bf6",
       "version_major": 2,
       "version_minor": 0
      },
      "text/plain": [
       "Training: |          | 0/? [00:00<?, ?it/s]"
      ]
     },
     "metadata": {},
     "output_type": "display_data"
    }
   ],
   "source": [
    "trainer.fit(model=model,datamodule=dm)\n",
    "trainer.validate(model=model,dataloaders=dm)"
   ]
  },
  {
   "cell_type": "code",
   "execution_count": null,
   "metadata": {},
   "outputs": [],
   "source": []
  }
 ],
 "metadata": {
  "kernelspec": {
   "display_name": "venv",
   "language": "python",
   "name": "python3"
  },
  "language_info": {
   "codemirror_mode": {
    "name": "ipython",
    "version": 3
   },
   "file_extension": ".py",
   "mimetype": "text/x-python",
   "name": "python",
   "nbconvert_exporter": "python",
   "pygments_lexer": "ipython3",
   "version": "3.10.14"
  }
 },
 "nbformat": 4,
 "nbformat_minor": 2
}
