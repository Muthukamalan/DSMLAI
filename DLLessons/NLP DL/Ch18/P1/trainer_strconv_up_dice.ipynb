{
 "cells": [
  {
   "cell_type": "code",
   "execution_count": null,
   "metadata": {},
   "outputs": [],
   "source": [
    "import torch\n",
    "import lightning.pytorch as pl\n",
    "from torchinfo import summary\n",
    "from lightning.pytorch.tuner import Tuner"
   ]
  },
  {
   "cell_type": "code",
   "execution_count": null,
   "metadata": {},
   "outputs": [],
   "source": [
    "torch.set_float32_matmul_precision('medium')"
   ]
  },
  {
   "cell_type": "code",
   "execution_count": null,
   "metadata": {},
   "outputs": [],
   "source": [
    "from data import OxfordPetDatamodule\n",
    "from model import LitUNet\n",
    "from transformation import mask_transforms,img_trasfroms"
   ]
  },
  {
   "cell_type": "code",
   "execution_count": null,
   "metadata": {},
   "outputs": [],
   "source": [
    "dm = OxfordPetDatamodule(transforms=img_trasfroms,mask_transforms=mask_transforms,batch_size=16)\n",
    "dm.setup()"
   ]
  },
  {
   "cell_type": "code",
   "execution_count": null,
   "metadata": {},
   "outputs": [],
   "source": [
    "model = LitUNet(\n",
    "    inchannels=3,\n",
    "    outchannels=3,\n",
    "    expansion_mode='upsample',\n",
    "    contraction_mode='strided_conv',\n",
    "    channels_list=[16,32,64,128],\n",
    "    loss_fn='dice',\n",
    "    epoch=15,\n",
    "    lr=1e-4,\n",
    "    scheduler_step=len(dm.train_dataloader()),\n",
    ")"
   ]
  },
  {
   "cell_type": "code",
   "execution_count": null,
   "metadata": {},
   "outputs": [],
   "source": [
    "summary(model=model, \n",
    "        input_size=(16, 3,256,256),\n",
    "        col_names=[ \"input_size\", \"output_size\", \"num_params\", \"params_percent\", \"kernel_size\", \"trainable\"],\n",
    "        row_settings=[\"depth\", \"var_names\"]\n",
    ")"
   ]
  },
  {
   "cell_type": "code",
   "execution_count": null,
   "metadata": {},
   "outputs": [],
   "source": [
    "trainer = pl.Trainer(\n",
    "    fast_dev_run=False,\n",
    "    max_epochs=15,\n",
    "    enable_model_summary=False,\n",
    "    enable_progress_bar=True,\n",
    "    # callbacks = [\n",
    "    #     # EarlyStopping(monitor='train_loss',mode='min',patience=3,verbose=False,check_on_train_epoch_end=True,check_finite=True,),\n",
    "    #     # LearningRateMonitor(logging_interval='step'),\n",
    "    #     # ModelCheckpoint(dirpath=\"experiment\",monitor='train_loss',enable_version_counter=True), \n",
    "    #     # ModelSummary(max_depth=-1),\n",
    "    #     # CSVLogger(save_dir='experiments/')\n",
    "    # ],\n",
    "    log_every_n_steps=30,\n",
    "    precision='32'\n",
    ")"
   ]
  },
  {
   "cell_type": "code",
   "execution_count": null,
   "metadata": {},
   "outputs": [],
   "source": [
    "# tuner = Tuner(trainer)\n",
    "# lr_finder = tuner.lr_find(model=model, datamodule=dm)\n",
    "# maxlr = lr_finder.suggestion()\n",
    "# fig = lr_finder.plot(suggest=True)\n",
    "# model.lr = maxlr\n",
    "# model.max_lr = maxlr"
   ]
  },
  {
   "cell_type": "code",
   "execution_count": null,
   "metadata": {},
   "outputs": [],
   "source": [
    "trainer.fit(model=model,datamodule=dm)\n",
    "trainer.validate(model=model,dataloaders=dm)"
   ]
  },
  {
   "cell_type": "code",
   "execution_count": null,
   "metadata": {},
   "outputs": [],
   "source": []
  }
 ],
 "metadata": {
  "kernelspec": {
   "display_name": "venv",
   "language": "python",
   "name": "python3"
  },
  "language_info": {
   "codemirror_mode": {
    "name": "ipython",
    "version": 3
   },
   "file_extension": ".py",
   "mimetype": "text/x-python",
   "name": "python",
   "nbconvert_exporter": "python",
   "pygments_lexer": "ipython3",
   "version": "3.10.14"
  }
 },
 "nbformat": 4,
 "nbformat_minor": 2
}
