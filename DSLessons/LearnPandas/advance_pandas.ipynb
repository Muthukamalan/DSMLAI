{
 "cells": [
  {
   "cell_type": "code",
   "execution_count": 1,
   "metadata": {},
   "outputs": [],
   "source": [
    "import io \n",
    "import pandas as pd \n",
    "import pyarrow as pa   # modern backend for Numpy"
   ]
  },
  {
   "cell_type": "markdown",
   "metadata": {},
   "source": [
    "# Jupyter"
   ]
  },
  {
   "cell_type": "code",
   "execution_count": 2,
   "metadata": {},
   "outputs": [
    {
     "name": "stdout",
     "output_type": "stream",
     "text": [
      "40.1 ns ± 1.65 ns per loop (mean ± std. dev. of 7 runs, 10,000,000 loops each)\n"
     ]
    }
   ],
   "source": [
    "%timeit x = range(1000) \n",
    "# line magic\n",
    "# %timeit line magic can be used to time how long it takes to run a line of code"
   ]
  },
  {
   "cell_type": "code",
   "execution_count": 3,
   "metadata": {},
   "outputs": [
    {
     "name": "stdout",
     "output_type": "stream",
     "text": [
      "22.5 μs ± 648 ns per loop (mean ± std. dev. of 7 runs, 10,000 loops each)\n"
     ]
    }
   ],
   "source": [
    "%%timeit\n",
    "# magic cell works on the entire cell.\n",
    "x = range(1000)\n",
    "total = 0\n",
    "for i in x:\n",
    "    total += i\n",
    "mean = total / len(x)"
   ]
  },
  {
   "cell_type": "markdown",
   "metadata": {},
   "source": [
    "Some of the most useful magics are:\n",
    "\n",
    "`%matplotlib inline`\n",
    "This line magic will display matplotlib plots inline in the notebook. (This is the default behavior in JupyterLab and is not needed there.)\n",
    "\n",
    "`%timeit`\n",
    "This line magic will time how long it takes to run a line of code.\n",
    "\n",
    "`%%timeit`\n",
    "This cell magic will time how long it takes to run a cell of code.\n",
    "\n",
    "`%debug`\n",
    "This line magic will start the interactive debugger.\n",
    "\n",
    "`%pdb`\n",
    "This line magic will enable the interactive debugger.\n",
    "\n",
    "`%%html`\n",
    "This cell magic will render the cell as HTML.\n",
    "\n",
    "`%%javascript`\n",
    "This cell magic will run the cell’s contents as JavaScript code.\n",
    "\n",
    "`%%writefile`\n",
    "This cell magic will write the cell’s contents to a file."
   ]
  },
  {
   "cell_type": "markdown",
   "metadata": {},
   "source": [
    "# Pandas"
   ]
  },
  {
   "cell_type": "markdown",
   "metadata": {},
   "source": [
    "|Data Type\t| SQL\t| Python\t| Pandas 2\t|Pandas 1 |\n",
    "|-----------|------|-----------|----------|----------|\n",
    "|Integer |\tINT|\tint|\t'int64[pyarrow]'|\t'int64' |\n",
    "|Float\t| FLOAT |\tfloat|\t'float64[pyarrow]'\t|'float64' |\n",
    "|String|\tVARCHAR\t|str|\tpd.ArrowDType( pa.String()) |\tobject|str |\n",
    "|Date\t|DATE|\tdatetime|\t'timestamp[ns] [pyarrow]'|\t'datetime64[ns]' |\n",
    "|Categorical|\tN/A|\tN/A|\t'dictionary' |\t'category' |\n",
    "|Boolean|\tBOOLEAN|\tbool|\t'bool[pyarrow]'|\tbool |\n"
   ]
  },
  {
   "cell_type": "markdown",
   "metadata": {},
   "source": [
    "# page_number: 16,23,39,40"
   ]
  },
  {
   "cell_type": "code",
   "execution_count": 4,
   "metadata": {},
   "outputs": [
    {
     "name": "stdout",
     "output_type": "stream",
     "text": [
      "0      1\n",
      "1     99\n",
      "2    127\n",
      "dtype: int8\n",
      "0      1\n",
      "1     99\n",
      "2    127\n",
      "dtype: int8[pyarrow]\n",
      "0                         2147483648\n",
      "1                9223372036854775808\n",
      "2    1267650600228229401496703205376\n",
      "dtype: object\n",
      "0    2.147484e+09\n",
      "1    9.223372e+18\n",
      "2    1.267651e+30\n",
      "dtype: float64\n",
      "Python int too large to convert to C long\n"
     ]
    }
   ],
   "source": [
    "print(pd.Series([1, 99, 127],dtype='int8'))\n",
    "print(pd.Series([1,99,127],dtype='int8[pyarrow]'))\n",
    "\n",
    "\n",
    "print(pd.Series([2**31, 2**63, 2**100], )   ) # object dtype\n",
    "print(pd.Series([2**31, 2**63, 2**100], dtype='double') )  # explicit mention 'double' or 'float64'\n",
    "\n",
    "# PyArrow doesn't gracefully turn into python Obj instead it'll throw error\n",
    "# print(pd.Series([2**31, 2**63, 2**100], dtype='int64[pyarrow]') )  # python int too large to convert to C long\n",
    "\n",
    "\n",
    "try:\n",
    "    print(pd.Series([2**31, 2**63, 2**100],dtype=pd.ArrowDtype(pa.float64())) )  # explicit mention\n",
    "except Exception as e:\n",
    "    print(str(e))\n",
    "\n",
    "\n",
    "# Note that the NumPy-backed series has a type of object. \n",
    "# Because the numbers are larger than an int64, NumPy will store the values but store them as Python objects. \n",
    "# This will make the code run slower and use more memory.\n"
   ]
  },
  {
   "cell_type": "code",
   "execution_count": 5,
   "metadata": {},
   "outputs": [
    {
     "name": "stdout",
     "output_type": "stream",
     "text": [
      "0     NaN\n",
      "1     1.0\n",
      "2   -45.0\n",
      "dtype: float64\n",
      "0    <NA>\n",
      "1       1\n",
      "2     -45\n",
      "dtype: int8[pyarrow]\n"
     ]
    }
   ],
   "source": [
    "print(pd.Series([None, 1, -45]))  # NaN backed series is float64.\n",
    "print(pd.Series([None, 1, -45],dtype='int8[pyarrow]'))   # pyarrow supports"
   ]
  },
  {
   "cell_type": "code",
   "execution_count": 6,
   "metadata": {},
   "outputs": [
    {
     "name": "stdout",
     "output_type": "stream",
     "text": [
      "0      My name is Muthu\n",
      "1         I like pandas\n",
      "2    I like programming\n",
      "3                  None\n",
      "dtype: object\n",
      "0      My name is Muthu\n",
      "1         I like pandas\n",
      "2    I like programming\n",
      "3                   NaN\n",
      "dtype: category\n",
      "Categories (3, object): ['I like pandas', 'I like programming', 'My name is Muthu']\n",
      "0      My name is Muthu\n",
      "1         I like pandas\n",
      "2    I like programming\n",
      "3                  <NA>\n",
      "dtype: string[pyarrow]\n"
     ]
    }
   ],
   "source": [
    "print(pd.Series(['My name is Muthu', 'I like pandas', 'I like programming',None]))  # object\n",
    "print(pd.Series(['My name is Muthu', 'I like pandas', 'I like programming',None],dtype='category'))  # category\n",
    "print(pd.Series(['My name is Muthu', 'I like pandas', 'I like programming',None],dtype=pd.ArrowDtype(pa.string())))"
   ]
  },
  {
   "cell_type": "code",
   "execution_count": 7,
   "metadata": {},
   "outputs": [],
   "source": [
    "import datetime as dt\n",
    "dt_list = [dt.datetime(2020, 1, 1, 4, 30 ), dt.datetime(2020, 1, 2), dt.datetime(2020, 1, 3)]\n",
    "string_dates = ['2020-01-01 04:30:00', '2020-01-02 00:00:00', '2020-01-03 00:00:00']\n",
    "string_dates_missing = ['2020-01-01 4:30', None, '2020-01-03']\n",
    "epoch_dates = [1577836800, 1577923200, 1578009600]"
   ]
  },
  {
   "cell_type": "code",
   "execution_count": 8,
   "metadata": {},
   "outputs": [
    {
     "data": {
      "text/plain": [
       "0   2020-01-01 04:30:00\n",
       "1   2020-01-02 00:00:00\n",
       "2   2020-01-03 00:00:00\n",
       "dtype: datetime64[ns]"
      ]
     },
     "execution_count": 8,
     "metadata": {},
     "output_type": "execute_result"
    }
   ],
   "source": [
    "pd.Series(string_dates, dtype='datetime64[ns]')"
   ]
  },
  {
   "cell_type": "code",
   "execution_count": 9,
   "metadata": {},
   "outputs": [
    {
     "data": {
      "text/plain": [
       "0   2020-01-01\n",
       "1   2020-01-02\n",
       "2   2020-01-03\n",
       "dtype: datetime64[s]"
      ]
     },
     "execution_count": 9,
     "metadata": {},
     "output_type": "execute_result"
    }
   ],
   "source": [
    "pd.Series(epoch_dates, dtype='datetime64[s]') "
   ]
  },
  {
   "cell_type": "code",
   "execution_count": 10,
   "metadata": {},
   "outputs": [
    {
     "data": {
      "text/plain": [
       "0    2020-01-01 04:30:00\n",
       "1    2020-01-02 00:00:00\n",
       "2    2020-01-03 00:00:00\n",
       "dtype: timestamp[ns][pyarrow]"
      ]
     },
     "execution_count": 10,
     "metadata": {},
     "output_type": "execute_result"
    }
   ],
   "source": [
    "pd.Series(dt_list, dtype='timestamp[ns][pyarrow]')"
   ]
  },
  {
   "cell_type": "code",
   "execution_count": 11,
   "metadata": {},
   "outputs": [
    {
     "data": {
      "text/plain": [
       "0    2020-01-01 00:00:00\n",
       "1    2020-01-02 00:00:00\n",
       "2    2020-01-03 00:00:00\n",
       "dtype: timestamp[s][pyarrow]"
      ]
     },
     "execution_count": 11,
     "metadata": {},
     "output_type": "execute_result"
    }
   ],
   "source": [
    "pd.Series(epoch_dates).astype('timestamp[s][pyarrow]')"
   ]
  },
  {
   "cell_type": "code",
   "execution_count": 12,
   "metadata": {},
   "outputs": [
    {
     "data": {
      "text/plain": [
       "False"
      ]
     },
     "execution_count": 12,
     "metadata": {},
     "output_type": "execute_result"
    }
   ],
   "source": [
    "pd.options.compute.use_numba"
   ]
  },
  {
   "cell_type": "code",
   "execution_count": 13,
   "metadata": {},
   "outputs": [],
   "source": [
    "url = 'https://github.com/mattharrison/datasets/raw/master/data/siena2018-pres.csv'\n",
    "df = pd.read_csv(url, index_col=0, dtype_backend='pyarrow')"
   ]
  },
  {
   "cell_type": "code",
   "execution_count": 14,
   "metadata": {},
   "outputs": [],
   "source": [
    "def tweak_siena_pres(df):\n",
    "     def int64_to_uint8(df_):\n",
    "         cols = df_.select_dtypes('int64')\n",
    "         return (df_\n",
    "                 .astype({col:'uint8[pyarrow]' for col in cols}))\n",
    "\n",
    "     return (df\n",
    "      .rename(columns={'Seq.':'Seq'})    # 1\n",
    "      .rename(columns={k:v.replace(' ', '_') for k,v in\n",
    "         {'Bg': 'Background',\n",
    "          'PL': 'Party leadership', 'CAb': 'Communication ability',\n",
    "          'RC': 'Relations with Congress', 'CAp': 'Court appointments',\n",
    "          'HE': 'Handling of economy', 'L': 'Luck',\n",
    "          'AC': 'Ability to compromise', 'WR': 'Willing to take risks',\n",
    "          'EAp': 'Executive appointments', 'OA': 'Overall ability',\n",
    "          'Im': 'Imagination', 'DA': 'Domestic accomplishments',\n",
    "          'Int': 'Integrity', 'EAb': 'Executive ability',\n",
    "          'FPA': 'Foreign policy accomplishments',\n",
    "          'LA': 'Leadership ability',\n",
    "          'IQ': 'Intelligence', 'AM': 'Avoid crucial mistakes',\n",
    "          'EV': \"Experts' view\", 'O': 'Overall'}.items()})\n",
    "      .astype({'Party':'category'})  # 2\n",
    "      .pipe(int64_to_uint8)  # 3\n",
    "      .assign(Average_rank=lambda df_:(df_.select_dtypes('uint8') # 4\n",
    "         .sum(axis=1).rank(method='dense').astype('uint8[pyarrow]')),\n",
    "              Quartile=lambda df_:pd.qcut(df_.Average_rank, 4,\n",
    "                   labels='1st 2nd 3rd 4th'.split())\n",
    "             )\n",
    "     )\n",
    "pres = tweak_siena_pres(df=df)"
   ]
  },
  {
   "cell_type": "code",
   "execution_count": 15,
   "metadata": {},
   "outputs": [
    {
     "data": {
      "text/html": [
       "<div>\n",
       "<style scoped>\n",
       "    .dataframe tbody tr th:only-of-type {\n",
       "        vertical-align: middle;\n",
       "    }\n",
       "\n",
       "    .dataframe tbody tr th {\n",
       "        vertical-align: top;\n",
       "    }\n",
       "\n",
       "    .dataframe thead th {\n",
       "        text-align: right;\n",
       "    }\n",
       "</style>\n",
       "<table border=\"1\" class=\"dataframe\">\n",
       "  <thead>\n",
       "    <tr style=\"text-align: right;\">\n",
       "      <th></th>\n",
       "      <th>Background</th>\n",
       "      <th>Imagination</th>\n",
       "      <th>Integrity</th>\n",
       "      <th>Intelligence</th>\n",
       "      <th>Luck</th>\n",
       "      <th>Willing_to_take_risks</th>\n",
       "      <th>Ability_to_compromise</th>\n",
       "      <th>Executive_ability</th>\n",
       "      <th>Leadership_ability</th>\n",
       "      <th>Communication_ability</th>\n",
       "      <th>...</th>\n",
       "      <th>Relations_with_Congress</th>\n",
       "      <th>Court_appointments</th>\n",
       "      <th>Handling_of_economy</th>\n",
       "      <th>Executive_appointments</th>\n",
       "      <th>Domestic_accomplishments</th>\n",
       "      <th>Foreign_policy_accomplishments</th>\n",
       "      <th>Avoid_crucial_mistakes</th>\n",
       "      <th>Experts'_view</th>\n",
       "      <th>Overall</th>\n",
       "      <th>Average_rank</th>\n",
       "    </tr>\n",
       "  </thead>\n",
       "  <tbody>\n",
       "    <tr>\n",
       "      <th>count</th>\n",
       "      <td>44</td>\n",
       "      <td>44</td>\n",
       "      <td>44</td>\n",
       "      <td>44</td>\n",
       "      <td>44</td>\n",
       "      <td>44</td>\n",
       "      <td>44</td>\n",
       "      <td>44</td>\n",
       "      <td>44</td>\n",
       "      <td>44</td>\n",
       "      <td>...</td>\n",
       "      <td>44</td>\n",
       "      <td>44</td>\n",
       "      <td>44</td>\n",
       "      <td>44</td>\n",
       "      <td>44</td>\n",
       "      <td>44</td>\n",
       "      <td>44</td>\n",
       "      <td>44</td>\n",
       "      <td>44</td>\n",
       "      <td>44</td>\n",
       "    </tr>\n",
       "    <tr>\n",
       "      <th>size</th>\n",
       "      <td>44</td>\n",
       "      <td>44</td>\n",
       "      <td>44</td>\n",
       "      <td>44</td>\n",
       "      <td>44</td>\n",
       "      <td>44</td>\n",
       "      <td>44</td>\n",
       "      <td>44</td>\n",
       "      <td>44</td>\n",
       "      <td>44</td>\n",
       "      <td>...</td>\n",
       "      <td>44</td>\n",
       "      <td>44</td>\n",
       "      <td>44</td>\n",
       "      <td>44</td>\n",
       "      <td>44</td>\n",
       "      <td>44</td>\n",
       "      <td>44</td>\n",
       "      <td>44</td>\n",
       "      <td>44</td>\n",
       "      <td>44</td>\n",
       "    </tr>\n",
       "    <tr>\n",
       "      <th>sum</th>\n",
       "      <td>968</td>\n",
       "      <td>957</td>\n",
       "      <td>990</td>\n",
       "      <td>990</td>\n",
       "      <td>990</td>\n",
       "      <td>953</td>\n",
       "      <td>968</td>\n",
       "      <td>978</td>\n",
       "      <td>990</td>\n",
       "      <td>990</td>\n",
       "      <td>...</td>\n",
       "      <td>979</td>\n",
       "      <td>990</td>\n",
       "      <td>990</td>\n",
       "      <td>990</td>\n",
       "      <td>990</td>\n",
       "      <td>990</td>\n",
       "      <td>990</td>\n",
       "      <td>990</td>\n",
       "      <td>990</td>\n",
       "      <td>990</td>\n",
       "    </tr>\n",
       "    <tr>\n",
       "      <th>&lt;lambda&gt;</th>\n",
       "      <td>7</td>\n",
       "      <td>7</td>\n",
       "      <td>1</td>\n",
       "      <td>10</td>\n",
       "      <td>1</td>\n",
       "      <td>6</td>\n",
       "      <td>2</td>\n",
       "      <td>2</td>\n",
       "      <td>1</td>\n",
       "      <td>11</td>\n",
       "      <td>...</td>\n",
       "      <td>1</td>\n",
       "      <td>1</td>\n",
       "      <td>1</td>\n",
       "      <td>1</td>\n",
       "      <td>2</td>\n",
       "      <td>2</td>\n",
       "      <td>1</td>\n",
       "      <td>2</td>\n",
       "      <td>1</td>\n",
       "      <td>1</td>\n",
       "    </tr>\n",
       "  </tbody>\n",
       "</table>\n",
       "<p>4 rows × 22 columns</p>\n",
       "</div>"
      ],
      "text/plain": [
       "          Background  Imagination  Integrity  Intelligence  Luck  \\\n",
       "count             44           44         44            44    44   \n",
       "size              44           44         44            44    44   \n",
       "sum              968          957        990           990   990   \n",
       "<lambda>           7            7          1            10     1   \n",
       "\n",
       "          Willing_to_take_risks  Ability_to_compromise  Executive_ability  \\\n",
       "count                        44                     44                 44   \n",
       "size                         44                     44                 44   \n",
       "sum                         953                    968                978   \n",
       "<lambda>                      6                      2                  2   \n",
       "\n",
       "          Leadership_ability  Communication_ability  ...  \\\n",
       "count                     44                     44  ...   \n",
       "size                      44                     44  ...   \n",
       "sum                      990                    990  ...   \n",
       "<lambda>                   1                     11  ...   \n",
       "\n",
       "          Relations_with_Congress  Court_appointments  Handling_of_economy  \\\n",
       "count                          44                  44                   44   \n",
       "size                           44                  44                   44   \n",
       "sum                           979                 990                  990   \n",
       "<lambda>                        1                   1                    1   \n",
       "\n",
       "          Executive_appointments  Domestic_accomplishments  \\\n",
       "count                         44                        44   \n",
       "size                          44                        44   \n",
       "sum                          990                       990   \n",
       "<lambda>                       1                         2   \n",
       "\n",
       "          Foreign_policy_accomplishments  Avoid_crucial_mistakes  \\\n",
       "count                                 44                      44   \n",
       "size                                  44                      44   \n",
       "sum                                  990                     990   \n",
       "<lambda>                               2                       1   \n",
       "\n",
       "          Experts'_view  Overall  Average_rank  \n",
       "count                44       44            44  \n",
       "size                 44       44            44  \n",
       "sum                 990      990           990  \n",
       "<lambda>              2        1             1  \n",
       "\n",
       "[4 rows x 22 columns]"
      ]
     },
     "execution_count": 15,
     "metadata": {},
     "output_type": "execute_result"
    }
   ],
   "source": [
    "pres.select_dtypes('number').agg([\n",
    "    'count',\n",
    "    'size',\n",
    "    'sum',\n",
    "    lambda col: col.loc[1]\n",
    "])"
   ]
  },
  {
   "cell_type": "code",
   "execution_count": 16,
   "metadata": {},
   "outputs": [
    {
     "data": {
      "text/html": [
       "<div>\n",
       "<style scoped>\n",
       "    .dataframe tbody tr th:only-of-type {\n",
       "        vertical-align: middle;\n",
       "    }\n",
       "\n",
       "    .dataframe tbody tr th {\n",
       "        vertical-align: top;\n",
       "    }\n",
       "\n",
       "    .dataframe thead th {\n",
       "        text-align: right;\n",
       "    }\n",
       "</style>\n",
       "<table border=\"1\" class=\"dataframe\">\n",
       "  <thead>\n",
       "    <tr style=\"text-align: right;\">\n",
       "      <th></th>\n",
       "      <th>Luck</th>\n",
       "      <th>Overall</th>\n",
       "    </tr>\n",
       "  </thead>\n",
       "  <tbody>\n",
       "    <tr>\n",
       "      <th>count</th>\n",
       "      <td>44.0</td>\n",
       "      <td>44.0</td>\n",
       "    </tr>\n",
       "    <tr>\n",
       "      <th>size</th>\n",
       "      <td>44.0</td>\n",
       "      <td>NaN</td>\n",
       "    </tr>\n",
       "    <tr>\n",
       "      <th>max</th>\n",
       "      <td>NaN</td>\n",
       "      <td>44.0</td>\n",
       "    </tr>\n",
       "  </tbody>\n",
       "</table>\n",
       "</div>"
      ],
      "text/plain": [
       "       Luck  Overall\n",
       "count  44.0     44.0\n",
       "size   44.0      NaN\n",
       "max     NaN     44.0"
      ]
     },
     "execution_count": 16,
     "metadata": {},
     "output_type": "execute_result"
    }
   ],
   "source": [
    "pres.select_dtypes('number').agg({\n",
    "    'Luck':['count','size'],\n",
    "    'Overall':['count','max']\n",
    "})"
   ]
  },
  {
   "cell_type": "code",
   "execution_count": 17,
   "metadata": {},
   "outputs": [
    {
     "data": {
      "text/html": [
       "<div>\n",
       "<style scoped>\n",
       "    .dataframe tbody tr th:only-of-type {\n",
       "        vertical-align: middle;\n",
       "    }\n",
       "\n",
       "    .dataframe tbody tr th {\n",
       "        vertical-align: top;\n",
       "    }\n",
       "\n",
       "    .dataframe thead th {\n",
       "        text-align: right;\n",
       "    }\n",
       "</style>\n",
       "<table border=\"1\" class=\"dataframe\">\n",
       "  <thead>\n",
       "    <tr style=\"text-align: right;\">\n",
       "      <th></th>\n",
       "      <th>Intelligence</th>\n",
       "    </tr>\n",
       "  </thead>\n",
       "  <tbody>\n",
       "    <tr>\n",
       "      <th>Intelligence_count</th>\n",
       "      <td>44</td>\n",
       "    </tr>\n",
       "    <tr>\n",
       "      <th>Intelligenve_size</th>\n",
       "      <td>44</td>\n",
       "    </tr>\n",
       "  </tbody>\n",
       "</table>\n",
       "</div>"
      ],
      "text/plain": [
       "                    Intelligence\n",
       "Intelligence_count            44\n",
       "Intelligenve_size             44"
      ]
     },
     "execution_count": 17,
     "metadata": {},
     "output_type": "execute_result"
    }
   ],
   "source": [
    "pres.select_dtypes('number').agg(\n",
    "    Intelligence_count = ('Intelligence','count'),\n",
    "    Intelligenve_size = (\"Intelligence\",'size')\n",
    ")"
   ]
  },
  {
   "cell_type": "code",
   "execution_count": null,
   "metadata": {},
   "outputs": [],
   "source": []
  },
  {
   "cell_type": "code",
   "execution_count": 18,
   "metadata": {},
   "outputs": [
    {
     "data": {
      "text/html": [
       "<div>\n",
       "<style scoped>\n",
       "    .dataframe tbody tr th:only-of-type {\n",
       "        vertical-align: middle;\n",
       "    }\n",
       "\n",
       "    .dataframe tbody tr th {\n",
       "        vertical-align: top;\n",
       "    }\n",
       "\n",
       "    .dataframe thead th {\n",
       "        text-align: right;\n",
       "    }\n",
       "</style>\n",
       "<table border=\"1\" class=\"dataframe\">\n",
       "  <thead>\n",
       "    <tr style=\"text-align: right;\">\n",
       "      <th></th>\n",
       "      <th>cancel_date</th>\n",
       "      <th>period_start</th>\n",
       "      <th>start_date</th>\n",
       "      <th>end_date</th>\n",
       "      <th>rev</th>\n",
       "      <th>sum_payments</th>\n",
       "    </tr>\n",
       "  </thead>\n",
       "  <tbody>\n",
       "    <tr>\n",
       "      <th>0</th>\n",
       "      <td>2019-12-01</td>\n",
       "      <td>2020-01-01</td>\n",
       "      <td>2019-12-15</td>\n",
       "      <td>2020-05-15</td>\n",
       "      <td>999</td>\n",
       "      <td>50</td>\n",
       "    </tr>\n",
       "    <tr>\n",
       "      <th>1</th>\n",
       "      <td>NaT</td>\n",
       "      <td>2020-01-01</td>\n",
       "      <td>2019-12-15</td>\n",
       "      <td>2020-05-15</td>\n",
       "      <td>999</td>\n",
       "      <td>50</td>\n",
       "    </tr>\n",
       "    <tr>\n",
       "      <th>2</th>\n",
       "      <td>NaT</td>\n",
       "      <td>2020-01-01</td>\n",
       "      <td>2019-12-15</td>\n",
       "      <td>2020-05-15</td>\n",
       "      <td>999</td>\n",
       "      <td>1950</td>\n",
       "    </tr>\n",
       "    <tr>\n",
       "      <th>3</th>\n",
       "      <td>2020-01-20</td>\n",
       "      <td>2020-01-01</td>\n",
       "      <td>2019-12-15</td>\n",
       "      <td>2020-05-15</td>\n",
       "      <td>499</td>\n",
       "      <td>0</td>\n",
       "    </tr>\n",
       "    <tr>\n",
       "      <th>4</th>\n",
       "      <td>NaT</td>\n",
       "      <td>2020-01-01</td>\n",
       "      <td>2019-12-24</td>\n",
       "      <td>2020-05-24</td>\n",
       "      <td>699</td>\n",
       "      <td>100</td>\n",
       "    </tr>\n",
       "    <tr>\n",
       "      <th>5</th>\n",
       "      <td>NaT</td>\n",
       "      <td>2020-01-01</td>\n",
       "      <td>2019-11-29</td>\n",
       "      <td>2020-04-29</td>\n",
       "      <td>799</td>\n",
       "      <td>250</td>\n",
       "    </tr>\n",
       "    <tr>\n",
       "      <th>6</th>\n",
       "      <td>NaT</td>\n",
       "      <td>2020-01-01</td>\n",
       "      <td>2020-01-15</td>\n",
       "      <td>2020-04-29</td>\n",
       "      <td>799</td>\n",
       "      <td>250</td>\n",
       "    </tr>\n",
       "  </tbody>\n",
       "</table>\n",
       "</div>"
      ],
      "text/plain": [
       "  cancel_date period_start start_date   end_date  rev  sum_payments\n",
       "0  2019-12-01   2020-01-01 2019-12-15 2020-05-15  999            50\n",
       "1         NaT   2020-01-01 2019-12-15 2020-05-15  999            50\n",
       "2         NaT   2020-01-01 2019-12-15 2020-05-15  999          1950\n",
       "3  2020-01-20   2020-01-01 2019-12-15 2020-05-15  499             0\n",
       "4         NaT   2020-01-01 2019-12-24 2020-05-24  699           100\n",
       "5         NaT   2020-01-01 2019-11-29 2020-04-29  799           250\n",
       "6         NaT   2020-01-01 2020-01-15 2020-04-29  799           250"
      ]
     },
     "execution_count": 18,
     "metadata": {},
     "output_type": "execute_result"
    }
   ],
   "source": [
    "billing_data = '''cancel_date,period_start,start_date,end_date,rev,sum_payments\n",
    "12/1/2019,1/1/2020,12/15/2019,5/15/2020,999,50\n",
    ",1/1/2020,12/15/2019,5/15/2020,999,50\n",
    ",1/1/2020,12/15/2019,5/15/2020,999,1950\n",
    "1/20/2020,1/1/2020,12/15/2019,5/15/2020,499,0\n",
    ",1/1/2020,12/24/2019,5/24/2020,699,100\n",
    ",1/1/2020,11/29/2019,4/29/2020,799,250\n",
    ",1/1/2020,1/15/2020,4/29/2020,799,250'''\n",
    "bill_df = pd.read_csv(io.StringIO(billing_data),dtype_backend='pyarrow',parse_dates=['cancel_date','period_start','start_date','end_date'])\n",
    "\n",
    "def tweak_bill202(df_:pd.DataFrame):\n",
    "    return df_.assign(\n",
    "        cancel_date = pd.to_datetime( df_.cancel_date.replace('<NA>',''),format=r'%m/%d/%Y' )\n",
    "    )\n",
    "tweak_bill202(bill_df)"
   ]
  }
 ],
 "metadata": {
  "kernelspec": {
   "display_name": ".venv",
   "language": "python",
   "name": "python3"
  },
  "language_info": {
   "codemirror_mode": {
    "name": "ipython",
    "version": 3
   },
   "file_extension": ".py",
   "mimetype": "text/x-python",
   "name": "python",
   "nbconvert_exporter": "python",
   "pygments_lexer": "ipython3",
   "version": "3.12.11"
  }
 },
 "nbformat": 4,
 "nbformat_minor": 2
}
