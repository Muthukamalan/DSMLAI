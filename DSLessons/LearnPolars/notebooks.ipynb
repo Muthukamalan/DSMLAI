{
 "cells": [
  {
   "cell_type": "code",
   "execution_count": 1,
   "metadata": {},
   "outputs": [
    {
     "ename": "ModuleNotFoundError",
     "evalue": "No module named 'polars'",
     "output_type": "error",
     "traceback": [
      "\u001b[31m---------------------------------------------------------------------------\u001b[39m",
      "\u001b[31mModuleNotFoundError\u001b[39m                       Traceback (most recent call last)",
      "\u001b[36mCell\u001b[39m\u001b[36m \u001b[39m\u001b[32mIn[1]\u001b[39m\u001b[32m, line 2\u001b[39m\n\u001b[32m      1\u001b[39m \u001b[38;5;28;01mimport\u001b[39;00m\u001b[38;5;250m \u001b[39m\u001b[34;01mnumpy\u001b[39;00m\u001b[38;5;250m \u001b[39m\u001b[38;5;28;01mas\u001b[39;00m\u001b[38;5;250m \u001b[39m\u001b[34;01mnp\u001b[39;00m \n\u001b[32m----> \u001b[39m\u001b[32m2\u001b[39m \u001b[38;5;28;01mimport\u001b[39;00m\u001b[38;5;250m \u001b[39m\u001b[34;01mpolars\u001b[39;00m\u001b[38;5;250m \u001b[39m\u001b[38;5;28;01mas\u001b[39;00m\u001b[38;5;250m \u001b[39m\u001b[34;01mpl\u001b[39;00m \n\u001b[32m      3\u001b[39m \u001b[38;5;28;01mimport\u001b[39;00m\u001b[38;5;250m \u001b[39m\u001b[34;01mpyarrow\u001b[39;00m\u001b[38;5;250m \u001b[39m\u001b[38;5;28;01mas\u001b[39;00m\u001b[38;5;250m \u001b[39m\u001b[34;01mpa\u001b[39;00m\n\u001b[32m      4\u001b[39m \u001b[38;5;28;01mimport\u001b[39;00m\u001b[38;5;250m \u001b[39m\u001b[34;01mpandas\u001b[39;00m\u001b[38;5;250m \u001b[39m\u001b[38;5;28;01mas\u001b[39;00m\u001b[38;5;250m \u001b[39m\u001b[34;01mpd\u001b[39;00m\n",
      "\u001b[31mModuleNotFoundError\u001b[39m: No module named 'polars'"
     ]
    }
   ],
   "source": [
    "import numpy as np \n",
    "import polars as pl \n",
    "import pyarrow as pa\n",
    "import pandas as pd"
   ]
  },
  {
   "cell_type": "code",
   "execution_count": null,
   "metadata": {},
   "outputs": [
    {
     "name": "stdout",
     "output_type": "stream",
     "text": [
      "np.__version__='2.2.5'\n",
      "pd.__version__='2.2.3'\n",
      "pa.__version__='20.0.0'\n",
      "pl.__version__='1.29.0'\n"
     ]
    }
   ],
   "source": [
    "print(f\"{np.__version__=}\")\n",
    "print(f\"{pd.__version__=}\")\n",
    "print(f\"{pa.__version__=}\")\n",
    "print(f\"{pl.__version__=}\")"
   ]
  },
  {
   "cell_type": "code",
   "execution_count": null,
   "metadata": {},
   "outputs": [
    {
     "name": "stdout",
     "output_type": "stream",
     "text": [
      "[Int64, String, String, String, Int64, Int64, Int64, Int64, Int64, Int64, Int64, Int64, Int64, Int64, Int64, Int64, Int64, Int64, Int64, Int64, Int64, Int64, Int64, Int64, Int64]\n"
     ]
    },
    {
     "data": {
      "text/html": [
       "<div><style>\n",
       ".dataframe > thead > tr,\n",
       ".dataframe > tbody > tr {\n",
       "  text-align: right;\n",
       "  white-space: pre-wrap;\n",
       "}\n",
       "</style>\n",
       "<small>shape: (44, 25)</small><table border=\"1\" class=\"dataframe\"><thead><tr><th></th><th>Seq.</th><th>President</th><th>Party</th><th>Bg</th><th>Im</th><th>Int</th><th>IQ</th><th>L</th><th>WR</th><th>AC</th><th>EAb</th><th>LA</th><th>CAb</th><th>OA</th><th>PL</th><th>RC</th><th>CAp</th><th>HE</th><th>EAp</th><th>DA</th><th>FPA</th><th>AM</th><th>EV</th><th>O</th></tr><tr><td>i64</td><td>str</td><td>str</td><td>str</td><td>i64</td><td>i64</td><td>i64</td><td>i64</td><td>i64</td><td>i64</td><td>i64</td><td>i64</td><td>i64</td><td>i64</td><td>i64</td><td>i64</td><td>i64</td><td>i64</td><td>i64</td><td>i64</td><td>i64</td><td>i64</td><td>i64</td><td>i64</td><td>i64</td></tr></thead><tbody><tr><td>1</td><td>&quot;1&quot;</td><td>&quot;George Washington&quot;</td><td>&quot;Independent&quot;</td><td>7</td><td>7</td><td>1</td><td>10</td><td>1</td><td>6</td><td>2</td><td>2</td><td>1</td><td>11</td><td>2</td><td>18</td><td>1</td><td>1</td><td>1</td><td>1</td><td>2</td><td>2</td><td>1</td><td>2</td><td>1</td></tr><tr><td>2</td><td>&quot;2&quot;</td><td>&quot;John Adams&quot;</td><td>&quot;Federalist&quot;</td><td>3</td><td>13</td><td>4</td><td>4</td><td>24</td><td>14</td><td>31</td><td>21</td><td>21</td><td>13</td><td>8</td><td>28</td><td>17</td><td>4</td><td>13</td><td>15</td><td>19</td><td>13</td><td>16</td><td>10</td><td>14</td></tr><tr><td>3</td><td>&quot;3&quot;</td><td>&quot;Thomas Jefferson&quot;</td><td>&quot;Democratic-Republican&quot;</td><td>2</td><td>2</td><td>14</td><td>1</td><td>8</td><td>5</td><td>14</td><td>6</td><td>6</td><td>4</td><td>4</td><td>5</td><td>5</td><td>7</td><td>20</td><td>4</td><td>6</td><td>9</td><td>7</td><td>5</td><td>5</td></tr><tr><td>4</td><td>&quot;4&quot;</td><td>&quot;James Madison&quot;</td><td>&quot;Democratic-Republican&quot;</td><td>4</td><td>6</td><td>7</td><td>3</td><td>16</td><td>15</td><td>6</td><td>13</td><td>17</td><td>10</td><td>6</td><td>9</td><td>10</td><td>6</td><td>14</td><td>7</td><td>11</td><td>19</td><td>11</td><td>8</td><td>7</td></tr><tr><td>5</td><td>&quot;5&quot;</td><td>&quot;James Monroe&quot;</td><td>&quot;Democratic-Republican&quot;</td><td>9</td><td>14</td><td>11</td><td>18</td><td>6</td><td>16</td><td>7</td><td>10</td><td>12</td><td>15</td><td>17</td><td>12</td><td>8</td><td>11</td><td>9</td><td>9</td><td>10</td><td>5</td><td>6</td><td>9</td><td>8</td></tr><tr><td>&hellip;</td><td>&hellip;</td><td>&hellip;</td><td>&hellip;</td><td>&hellip;</td><td>&hellip;</td><td>&hellip;</td><td>&hellip;</td><td>&hellip;</td><td>&hellip;</td><td>&hellip;</td><td>&hellip;</td><td>&hellip;</td><td>&hellip;</td><td>&hellip;</td><td>&hellip;</td><td>&hellip;</td><td>&hellip;</td><td>&hellip;</td><td>&hellip;</td><td>&hellip;</td><td>&hellip;</td><td>&hellip;</td><td>&hellip;</td><td>&hellip;</td></tr><tr><td>40</td><td>&quot;41&quot;</td><td>&quot;George H. W. Bush&quot;</td><td>&quot;Republican&quot;</td><td>10</td><td>27</td><td>18</td><td>19</td><td>20</td><td>27</td><td>13</td><td>20</td><td>22</td><td>28</td><td>21</td><td>21</td><td>20</td><td>29</td><td>28</td><td>19</td><td>26</td><td>10</td><td>17</td><td>21</td><td>21</td></tr><tr><td>41</td><td>&quot;42&quot;</td><td>&quot;Bill Clinton&quot;</td><td>&quot;Democratic&quot;</td><td>21</td><td>12</td><td>39</td><td>8</td><td>11</td><td>17</td><td>3</td><td>16</td><td>15</td><td>8</td><td>13</td><td>13</td><td>18</td><td>10</td><td>5</td><td>12</td><td>9</td><td>18</td><td>30</td><td>14</td><td>15</td></tr><tr><td>42</td><td>&quot;43&quot;</td><td>&quot;George W. Bush&quot;</td><td>&quot;Republican&quot;</td><td>17</td><td>29</td><td>33</td><td>41</td><td>21</td><td>20</td><td>28</td><td>34</td><td>31</td><td>38</td><td>38</td><td>19</td><td>22</td><td>28</td><td>36</td><td>29</td><td>30</td><td>38</td><td>36</td><td>34</td><td>33</td></tr><tr><td>43</td><td>&quot;44&quot;</td><td>&quot;Barack Obama&quot;</td><td>&quot;Democratic&quot;</td><td>24</td><td>11</td><td>13</td><td>9</td><td>15</td><td>23</td><td>16</td><td>18</td><td>16</td><td>9</td><td>15</td><td>23</td><td>31</td><td>14</td><td>10</td><td>13</td><td>13</td><td>20</td><td>10</td><td>11</td><td>17</td></tr><tr><td>44</td><td>&quot;45&quot;</td><td>&quot;Donald Trump&quot;</td><td>&quot;Republican&quot;</td><td>43</td><td>40</td><td>44</td><td>44</td><td>10</td><td>25</td><td>42</td><td>41</td><td>42</td><td>43</td><td>44</td><td>43</td><td>42</td><td>40</td><td>39</td><td>44</td><td>40</td><td>42</td><td>41</td><td>42</td><td>42</td></tr></tbody></table></div>"
      ],
      "text/plain": [
       "shape: (44, 25)\n",
       "┌─────┬──────┬───────────────────┬───────────────────────┬───┬─────┬─────┬─────┬─────┐\n",
       "│     ┆ Seq. ┆ President         ┆ Party                 ┆ … ┆ FPA ┆ AM  ┆ EV  ┆ O   │\n",
       "│ --- ┆ ---  ┆ ---               ┆ ---                   ┆   ┆ --- ┆ --- ┆ --- ┆ --- │\n",
       "│ i64 ┆ str  ┆ str               ┆ str                   ┆   ┆ i64 ┆ i64 ┆ i64 ┆ i64 │\n",
       "╞═════╪══════╪═══════════════════╪═══════════════════════╪═══╪═════╪═════╪═════╪═════╡\n",
       "│ 1   ┆ 1    ┆ George Washington ┆ Independent           ┆ … ┆ 2   ┆ 1   ┆ 2   ┆ 1   │\n",
       "│ 2   ┆ 2    ┆ John Adams        ┆ Federalist            ┆ … ┆ 13  ┆ 16  ┆ 10  ┆ 14  │\n",
       "│ 3   ┆ 3    ┆ Thomas Jefferson  ┆ Democratic-Republican ┆ … ┆ 9   ┆ 7   ┆ 5   ┆ 5   │\n",
       "│ 4   ┆ 4    ┆ James Madison     ┆ Democratic-Republican ┆ … ┆ 19  ┆ 11  ┆ 8   ┆ 7   │\n",
       "│ 5   ┆ 5    ┆ James Monroe      ┆ Democratic-Republican ┆ … ┆ 5   ┆ 6   ┆ 9   ┆ 8   │\n",
       "│ …   ┆ …    ┆ …                 ┆ …                     ┆ … ┆ …   ┆ …   ┆ …   ┆ …   │\n",
       "│ 40  ┆ 41   ┆ George H. W. Bush ┆ Republican            ┆ … ┆ 10  ┆ 17  ┆ 21  ┆ 21  │\n",
       "│ 41  ┆ 42   ┆ Bill Clinton      ┆ Democratic            ┆ … ┆ 18  ┆ 30  ┆ 14  ┆ 15  │\n",
       "│ 42  ┆ 43   ┆ George W. Bush    ┆ Republican            ┆ … ┆ 38  ┆ 36  ┆ 34  ┆ 33  │\n",
       "│ 43  ┆ 44   ┆ Barack Obama      ┆ Democratic            ┆ … ┆ 20  ┆ 10  ┆ 11  ┆ 17  │\n",
       "│ 44  ┆ 45   ┆ Donald Trump      ┆ Republican            ┆ … ┆ 42  ┆ 41  ┆ 42  ┆ 42  │\n",
       "└─────┴──────┴───────────────────┴───────────────────────┴───┴─────┴─────┴─────┴─────┘"
      ]
     },
     "execution_count": 8,
     "metadata": {},
     "output_type": "execute_result"
    }
   ],
   "source": [
    "siena2018 = pl.read_csv(r\"https://raw.githubusercontent.com/mattharrison/datasets/refs/heads/master/data/siena2018-pres.csv\",truncate_ragged_lines=True)\n",
    "print(siena2018.dtypes)\n",
    "\n",
    "siena2018"
   ]
  },
  {
   "cell_type": "code",
   "execution_count": null,
   "metadata": {},
   "outputs": [
    {
     "name": "stdout",
     "output_type": "stream",
     "text": [
      "['', 'Seq.', 'President', 'Party', 'Bg', 'Im', 'Int', 'IQ', 'L', 'WR', 'AC', 'EAb', 'LA', 'CAb', 'OA', 'PL', 'RC', 'CAp', 'HE', 'EAp', 'DA', 'FPA', 'AM', 'EV', 'O']\n",
      "8961\n"
     ]
    }
   ],
   "source": [
    "print(siena2018.columns)\n",
    "print(siena2018.estimated_size())"
   ]
  },
  {
   "cell_type": "code",
   "execution_count": null,
   "metadata": {},
   "outputs": [
    {
     "data": {
      "text/html": [
       "<div><style>\n",
       ".dataframe > thead > tr,\n",
       ".dataframe > tbody > tr {\n",
       "  text-align: right;\n",
       "  white-space: pre-wrap;\n",
       "}\n",
       "</style>\n",
       "<small>shape: (44, 6)</small><table border=\"1\" class=\"dataframe\"><thead><tr><th>Bg</th><th>Im</th><th>Int</th><th>IQ</th><th>L</th><th>WR</th></tr><tr><td>i64</td><td>i64</td><td>i64</td><td>i64</td><td>i64</td><td>i64</td></tr></thead><tbody><tr><td>7</td><td>7</td><td>1</td><td>10</td><td>1</td><td>6</td></tr><tr><td>3</td><td>13</td><td>4</td><td>4</td><td>24</td><td>14</td></tr><tr><td>2</td><td>2</td><td>14</td><td>1</td><td>8</td><td>5</td></tr><tr><td>4</td><td>6</td><td>7</td><td>3</td><td>16</td><td>15</td></tr><tr><td>9</td><td>14</td><td>11</td><td>18</td><td>6</td><td>16</td></tr><tr><td>&hellip;</td><td>&hellip;</td><td>&hellip;</td><td>&hellip;</td><td>&hellip;</td><td>&hellip;</td></tr><tr><td>10</td><td>27</td><td>18</td><td>19</td><td>20</td><td>27</td></tr><tr><td>21</td><td>12</td><td>39</td><td>8</td><td>11</td><td>17</td></tr><tr><td>17</td><td>29</td><td>33</td><td>41</td><td>21</td><td>20</td></tr><tr><td>24</td><td>11</td><td>13</td><td>9</td><td>15</td><td>23</td></tr><tr><td>43</td><td>40</td><td>44</td><td>44</td><td>10</td><td>25</td></tr></tbody></table></div>"
      ],
      "text/plain": [
       "shape: (44, 6)\n",
       "┌─────┬─────┬─────┬─────┬─────┬─────┐\n",
       "│ Bg  ┆ Im  ┆ Int ┆ IQ  ┆ L   ┆ WR  │\n",
       "│ --- ┆ --- ┆ --- ┆ --- ┆ --- ┆ --- │\n",
       "│ i64 ┆ i64 ┆ i64 ┆ i64 ┆ i64 ┆ i64 │\n",
       "╞═════╪═════╪═════╪═════╪═════╪═════╡\n",
       "│ 7   ┆ 7   ┆ 1   ┆ 10  ┆ 1   ┆ 6   │\n",
       "│ 3   ┆ 13  ┆ 4   ┆ 4   ┆ 24  ┆ 14  │\n",
       "│ 2   ┆ 2   ┆ 14  ┆ 1   ┆ 8   ┆ 5   │\n",
       "│ 4   ┆ 6   ┆ 7   ┆ 3   ┆ 16  ┆ 15  │\n",
       "│ 9   ┆ 14  ┆ 11  ┆ 18  ┆ 6   ┆ 16  │\n",
       "│ …   ┆ …   ┆ …   ┆ …   ┆ …   ┆ …   │\n",
       "│ 10  ┆ 27  ┆ 18  ┆ 19  ┆ 20  ┆ 27  │\n",
       "│ 21  ┆ 12  ┆ 39  ┆ 8   ┆ 11  ┆ 17  │\n",
       "│ 17  ┆ 29  ┆ 33  ┆ 41  ┆ 21  ┆ 20  │\n",
       "│ 24  ┆ 11  ┆ 13  ┆ 9   ┆ 15  ┆ 23  │\n",
       "│ 43  ┆ 40  ┆ 44  ┆ 44  ┆ 10  ┆ 25  │\n",
       "└─────┴─────┴─────┴─────┴─────┴─────┘"
      ]
     },
     "execution_count": 16,
     "metadata": {},
     "output_type": "execute_result"
    }
   ],
   "source": [
    "# select is a context\n",
    "# pl.col is an expression\n",
    "\n",
    "cols = ['Bg', 'Im', 'Int', 'IQ', 'L', 'WR']\n",
    "siena2018[cols].select(pl.col(pl.Int64))"
   ]
  },
  {
   "cell_type": "code",
   "execution_count": null,
   "metadata": {},
   "outputs": [
    {
     "data": {
      "text/html": [
       "<div><style>\n",
       ".dataframe > thead > tr,\n",
       ".dataframe > tbody > tr {\n",
       "  text-align: right;\n",
       "  white-space: pre-wrap;\n",
       "}\n",
       "</style>\n",
       "<small>shape: (9, 7)</small><table border=\"1\" class=\"dataframe\"><thead><tr><th>statistic</th><th>Bg</th><th>Im</th><th>Int</th><th>IQ</th><th>L</th><th>WR</th></tr><tr><td>str</td><td>f64</td><td>f64</td><td>f64</td><td>f64</td><td>f64</td><td>f64</td></tr></thead><tbody><tr><td>&quot;count&quot;</td><td>44.0</td><td>44.0</td><td>44.0</td><td>44.0</td><td>44.0</td><td>44.0</td></tr><tr><td>&quot;null_count&quot;</td><td>0.0</td><td>0.0</td><td>0.0</td><td>0.0</td><td>0.0</td><td>0.0</td></tr><tr><td>&quot;mean&quot;</td><td>22.0</td><td>21.75</td><td>22.5</td><td>22.5</td><td>22.5</td><td>21.659091</td></tr><tr><td>&quot;std&quot;</td><td>12.409674</td><td>12.519984</td><td>12.845233</td><td>12.845233</td><td>12.845233</td><td>11.892822</td></tr><tr><td>&quot;min&quot;</td><td>1.0</td><td>1.0</td><td>1.0</td><td>1.0</td><td>1.0</td><td>1.0</td></tr><tr><td>&quot;25%&quot;</td><td>12.0</td><td>11.0</td><td>12.0</td><td>12.0</td><td>12.0</td><td>12.0</td></tr><tr><td>&quot;50%&quot;</td><td>22.0</td><td>22.0</td><td>23.0</td><td>23.0</td><td>23.0</td><td>23.0</td></tr><tr><td>&quot;75%&quot;</td><td>32.0</td><td>32.0</td><td>33.0</td><td>33.0</td><td>33.0</td><td>31.0</td></tr><tr><td>&quot;max&quot;</td><td>43.0</td><td>43.0</td><td>44.0</td><td>44.0</td><td>44.0</td><td>41.0</td></tr></tbody></table></div>"
      ],
      "text/plain": [
       "shape: (9, 7)\n",
       "┌────────────┬───────────┬───────────┬───────────┬───────────┬───────────┬───────────┐\n",
       "│ statistic  ┆ Bg        ┆ Im        ┆ Int       ┆ IQ        ┆ L         ┆ WR        │\n",
       "│ ---        ┆ ---       ┆ ---       ┆ ---       ┆ ---       ┆ ---       ┆ ---       │\n",
       "│ str        ┆ f64       ┆ f64       ┆ f64       ┆ f64       ┆ f64       ┆ f64       │\n",
       "╞════════════╪═══════════╪═══════════╪═══════════╪═══════════╪═══════════╪═══════════╡\n",
       "│ count      ┆ 44.0      ┆ 44.0      ┆ 44.0      ┆ 44.0      ┆ 44.0      ┆ 44.0      │\n",
       "│ null_count ┆ 0.0       ┆ 0.0       ┆ 0.0       ┆ 0.0       ┆ 0.0       ┆ 0.0       │\n",
       "│ mean       ┆ 22.0      ┆ 21.75     ┆ 22.5      ┆ 22.5      ┆ 22.5      ┆ 21.659091 │\n",
       "│ std        ┆ 12.409674 ┆ 12.519984 ┆ 12.845233 ┆ 12.845233 ┆ 12.845233 ┆ 11.892822 │\n",
       "│ min        ┆ 1.0       ┆ 1.0       ┆ 1.0       ┆ 1.0       ┆ 1.0       ┆ 1.0       │\n",
       "│ 25%        ┆ 12.0      ┆ 11.0      ┆ 12.0      ┆ 12.0      ┆ 12.0      ┆ 12.0      │\n",
       "│ 50%        ┆ 22.0      ┆ 22.0      ┆ 23.0      ┆ 23.0      ┆ 23.0      ┆ 23.0      │\n",
       "│ 75%        ┆ 32.0      ┆ 32.0      ┆ 33.0      ┆ 33.0      ┆ 33.0      ┆ 31.0      │\n",
       "│ max        ┆ 43.0      ┆ 43.0      ┆ 44.0      ┆ 44.0      ┆ 44.0      ┆ 41.0      │\n",
       "└────────────┴───────────┴───────────┴───────────┴───────────┴───────────┴───────────┘"
      ]
     },
     "execution_count": 19,
     "metadata": {},
     "output_type": "execute_result"
    }
   ],
   "source": [
    "# siena2018[cols].select(pl.col(pl.Int64)).describe()\n",
    "# chaining\n",
    "(\n",
    "    siena2018\n",
    "        .select(cols)\n",
    "        .select(pl.col(pl.Int64))\n",
    "        .describe()\n",
    ")"
   ]
  },
  {
   "cell_type": "code",
   "execution_count": null,
   "metadata": {},
   "outputs": [
    {
     "name": "stdout",
     "output_type": "stream",
     "text": [
      "Machine parameters for int16\n",
      "---------------------------------------------------------------\n",
      "min = -32768\n",
      "max = 32767\n",
      "---------------------------------------------------------------\n",
      "\n",
      "Machine parameters for uint64\n",
      "---------------------------------------------------------------\n",
      "min = 0\n",
      "max = 18446744073709551615\n",
      "---------------------------------------------------------------\n",
      "\n"
     ]
    }
   ],
   "source": [
    "print(np.iinfo(np.int16))\n",
    "print(np.iinfo(np.uint))"
   ]
  },
  {
   "cell_type": "code",
   "execution_count": null,
   "metadata": {},
   "outputs": [
    {
     "data": {
      "text/html": [
       "<div><style>\n",
       ".dataframe > thead > tr,\n",
       ".dataframe > tbody > tr {\n",
       "  text-align: right;\n",
       "  white-space: pre-wrap;\n",
       "}\n",
       "</style>\n",
       "<small>shape: (44, 6)</small><table border=\"1\" class=\"dataframe\"><thead><tr><th>Bg</th><th>Im</th><th>Int</th><th>IQ</th><th>L</th><th>WR</th></tr><tr><td>u32</td><td>i64</td><td>i64</td><td>i64</td><td>i64</td><td>i64</td></tr></thead><tbody><tr><td>7</td><td>7</td><td>1</td><td>10</td><td>1</td><td>6</td></tr><tr><td>3</td><td>13</td><td>4</td><td>4</td><td>24</td><td>14</td></tr><tr><td>2</td><td>2</td><td>14</td><td>1</td><td>8</td><td>5</td></tr><tr><td>4</td><td>6</td><td>7</td><td>3</td><td>16</td><td>15</td></tr><tr><td>9</td><td>14</td><td>11</td><td>18</td><td>6</td><td>16</td></tr><tr><td>&hellip;</td><td>&hellip;</td><td>&hellip;</td><td>&hellip;</td><td>&hellip;</td><td>&hellip;</td></tr><tr><td>10</td><td>27</td><td>18</td><td>19</td><td>20</td><td>27</td></tr><tr><td>21</td><td>12</td><td>39</td><td>8</td><td>11</td><td>17</td></tr><tr><td>17</td><td>29</td><td>33</td><td>41</td><td>21</td><td>20</td></tr><tr><td>24</td><td>11</td><td>13</td><td>9</td><td>15</td><td>23</td></tr><tr><td>43</td><td>40</td><td>44</td><td>44</td><td>10</td><td>25</td></tr></tbody></table></div>"
      ],
      "text/plain": [
       "shape: (44, 6)\n",
       "┌─────┬─────┬─────┬─────┬─────┬─────┐\n",
       "│ Bg  ┆ Im  ┆ Int ┆ IQ  ┆ L   ┆ WR  │\n",
       "│ --- ┆ --- ┆ --- ┆ --- ┆ --- ┆ --- │\n",
       "│ u32 ┆ i64 ┆ i64 ┆ i64 ┆ i64 ┆ i64 │\n",
       "╞═════╪═════╪═════╪═════╪═════╪═════╡\n",
       "│ 7   ┆ 7   ┆ 1   ┆ 10  ┆ 1   ┆ 6   │\n",
       "│ 3   ┆ 13  ┆ 4   ┆ 4   ┆ 24  ┆ 14  │\n",
       "│ 2   ┆ 2   ┆ 14  ┆ 1   ┆ 8   ┆ 5   │\n",
       "│ 4   ┆ 6   ┆ 7   ┆ 3   ┆ 16  ┆ 15  │\n",
       "│ 9   ┆ 14  ┆ 11  ┆ 18  ┆ 6   ┆ 16  │\n",
       "│ …   ┆ …   ┆ …   ┆ …   ┆ …   ┆ …   │\n",
       "│ 10  ┆ 27  ┆ 18  ┆ 19  ┆ 20  ┆ 27  │\n",
       "│ 21  ┆ 12  ┆ 39  ┆ 8   ┆ 11  ┆ 17  │\n",
       "│ 17  ┆ 29  ┆ 33  ┆ 41  ┆ 21  ┆ 20  │\n",
       "│ 24  ┆ 11  ┆ 13  ┆ 9   ┆ 15  ┆ 23  │\n",
       "│ 43  ┆ 40  ┆ 44  ┆ 44  ┆ 10  ┆ 25  │\n",
       "└─────┴─────┴─────┴─────┴─────┴─────┘"
      ]
     },
     "execution_count": 25,
     "metadata": {},
     "output_type": "execute_result"
    }
   ],
   "source": [
    "(\n",
    "    siena2018\n",
    "        .select(cols)\n",
    "        .with_columns(pl.col('Bg').cast(pl.UInt32))\n",
    ")"
   ]
  },
  {
   "cell_type": "code",
   "execution_count": null,
   "metadata": {},
   "outputs": [
    {
     "data": {
      "text/html": [
       "<div><style>\n",
       ".dataframe > thead > tr,\n",
       ".dataframe > tbody > tr {\n",
       "  text-align: right;\n",
       "  white-space: pre-wrap;\n",
       "}\n",
       "</style>\n",
       "<small>shape: (44, 25)</small><table border=\"1\" class=\"dataframe\"><thead><tr><th></th><th>Seq.</th><th>President</th><th>Party</th><th>Bg</th><th>Im</th><th>Int</th><th>IQ</th><th>L</th><th>WR</th><th>AC</th><th>EAb</th><th>LA</th><th>CAb</th><th>OA</th><th>PL</th><th>RC</th><th>CAp</th><th>HE</th><th>EAp</th><th>DA</th><th>FPA</th><th>AM</th><th>EV</th><th>O</th></tr><tr><td>i64</td><td>str</td><td>cat</td><td>cat</td><td>u32</td><td>i64</td><td>i64</td><td>i64</td><td>i64</td><td>i64</td><td>i64</td><td>i64</td><td>i64</td><td>i64</td><td>i64</td><td>i64</td><td>i64</td><td>i64</td><td>i64</td><td>i64</td><td>i64</td><td>i64</td><td>i64</td><td>i64</td><td>i64</td></tr></thead><tbody><tr><td>1</td><td>&quot;1&quot;</td><td>&quot;George Washington&quot;</td><td>&quot;Independent&quot;</td><td>7</td><td>7</td><td>1</td><td>10</td><td>1</td><td>6</td><td>2</td><td>2</td><td>1</td><td>11</td><td>2</td><td>18</td><td>1</td><td>1</td><td>1</td><td>1</td><td>2</td><td>2</td><td>1</td><td>2</td><td>1</td></tr><tr><td>2</td><td>&quot;2&quot;</td><td>&quot;John Adams&quot;</td><td>&quot;Federalist&quot;</td><td>3</td><td>13</td><td>4</td><td>4</td><td>24</td><td>14</td><td>31</td><td>21</td><td>21</td><td>13</td><td>8</td><td>28</td><td>17</td><td>4</td><td>13</td><td>15</td><td>19</td><td>13</td><td>16</td><td>10</td><td>14</td></tr><tr><td>3</td><td>&quot;3&quot;</td><td>&quot;Thomas Jefferson&quot;</td><td>&quot;Democratic-Republican&quot;</td><td>2</td><td>2</td><td>14</td><td>1</td><td>8</td><td>5</td><td>14</td><td>6</td><td>6</td><td>4</td><td>4</td><td>5</td><td>5</td><td>7</td><td>20</td><td>4</td><td>6</td><td>9</td><td>7</td><td>5</td><td>5</td></tr><tr><td>4</td><td>&quot;4&quot;</td><td>&quot;James Madison&quot;</td><td>&quot;Democratic-Republican&quot;</td><td>4</td><td>6</td><td>7</td><td>3</td><td>16</td><td>15</td><td>6</td><td>13</td><td>17</td><td>10</td><td>6</td><td>9</td><td>10</td><td>6</td><td>14</td><td>7</td><td>11</td><td>19</td><td>11</td><td>8</td><td>7</td></tr><tr><td>5</td><td>&quot;5&quot;</td><td>&quot;James Monroe&quot;</td><td>&quot;Democratic-Republican&quot;</td><td>9</td><td>14</td><td>11</td><td>18</td><td>6</td><td>16</td><td>7</td><td>10</td><td>12</td><td>15</td><td>17</td><td>12</td><td>8</td><td>11</td><td>9</td><td>9</td><td>10</td><td>5</td><td>6</td><td>9</td><td>8</td></tr><tr><td>&hellip;</td><td>&hellip;</td><td>&hellip;</td><td>&hellip;</td><td>&hellip;</td><td>&hellip;</td><td>&hellip;</td><td>&hellip;</td><td>&hellip;</td><td>&hellip;</td><td>&hellip;</td><td>&hellip;</td><td>&hellip;</td><td>&hellip;</td><td>&hellip;</td><td>&hellip;</td><td>&hellip;</td><td>&hellip;</td><td>&hellip;</td><td>&hellip;</td><td>&hellip;</td><td>&hellip;</td><td>&hellip;</td><td>&hellip;</td><td>&hellip;</td></tr><tr><td>40</td><td>&quot;41&quot;</td><td>&quot;George H. W. Bush&quot;</td><td>&quot;Republican&quot;</td><td>10</td><td>27</td><td>18</td><td>19</td><td>20</td><td>27</td><td>13</td><td>20</td><td>22</td><td>28</td><td>21</td><td>21</td><td>20</td><td>29</td><td>28</td><td>19</td><td>26</td><td>10</td><td>17</td><td>21</td><td>21</td></tr><tr><td>41</td><td>&quot;42&quot;</td><td>&quot;Bill Clinton&quot;</td><td>&quot;Democratic&quot;</td><td>21</td><td>12</td><td>39</td><td>8</td><td>11</td><td>17</td><td>3</td><td>16</td><td>15</td><td>8</td><td>13</td><td>13</td><td>18</td><td>10</td><td>5</td><td>12</td><td>9</td><td>18</td><td>30</td><td>14</td><td>15</td></tr><tr><td>42</td><td>&quot;43&quot;</td><td>&quot;George W. Bush&quot;</td><td>&quot;Republican&quot;</td><td>17</td><td>29</td><td>33</td><td>41</td><td>21</td><td>20</td><td>28</td><td>34</td><td>31</td><td>38</td><td>38</td><td>19</td><td>22</td><td>28</td><td>36</td><td>29</td><td>30</td><td>38</td><td>36</td><td>34</td><td>33</td></tr><tr><td>43</td><td>&quot;44&quot;</td><td>&quot;Barack Obama&quot;</td><td>&quot;Democratic&quot;</td><td>24</td><td>11</td><td>13</td><td>9</td><td>15</td><td>23</td><td>16</td><td>18</td><td>16</td><td>9</td><td>15</td><td>23</td><td>31</td><td>14</td><td>10</td><td>13</td><td>13</td><td>20</td><td>10</td><td>11</td><td>17</td></tr><tr><td>44</td><td>&quot;45&quot;</td><td>&quot;Donald Trump&quot;</td><td>&quot;Republican&quot;</td><td>43</td><td>40</td><td>44</td><td>44</td><td>10</td><td>25</td><td>42</td><td>41</td><td>42</td><td>43</td><td>44</td><td>43</td><td>42</td><td>40</td><td>39</td><td>44</td><td>40</td><td>42</td><td>41</td><td>42</td><td>42</td></tr></tbody></table></div>"
      ],
      "text/plain": [
       "shape: (44, 25)\n",
       "┌─────┬──────┬───────────────────┬───────────────────────┬───┬─────┬─────┬─────┬─────┐\n",
       "│     ┆ Seq. ┆ President         ┆ Party                 ┆ … ┆ FPA ┆ AM  ┆ EV  ┆ O   │\n",
       "│ --- ┆ ---  ┆ ---               ┆ ---                   ┆   ┆ --- ┆ --- ┆ --- ┆ --- │\n",
       "│ i64 ┆ str  ┆ cat               ┆ cat                   ┆   ┆ i64 ┆ i64 ┆ i64 ┆ i64 │\n",
       "╞═════╪══════╪═══════════════════╪═══════════════════════╪═══╪═════╪═════╪═════╪═════╡\n",
       "│ 1   ┆ 1    ┆ George Washington ┆ Independent           ┆ … ┆ 2   ┆ 1   ┆ 2   ┆ 1   │\n",
       "│ 2   ┆ 2    ┆ John Adams        ┆ Federalist            ┆ … ┆ 13  ┆ 16  ┆ 10  ┆ 14  │\n",
       "│ 3   ┆ 3    ┆ Thomas Jefferson  ┆ Democratic-Republican ┆ … ┆ 9   ┆ 7   ┆ 5   ┆ 5   │\n",
       "│ 4   ┆ 4    ┆ James Madison     ┆ Democratic-Republican ┆ … ┆ 19  ┆ 11  ┆ 8   ┆ 7   │\n",
       "│ 5   ┆ 5    ┆ James Monroe      ┆ Democratic-Republican ┆ … ┆ 5   ┆ 6   ┆ 9   ┆ 8   │\n",
       "│ …   ┆ …    ┆ …                 ┆ …                     ┆ … ┆ …   ┆ …   ┆ …   ┆ …   │\n",
       "│ 40  ┆ 41   ┆ George H. W. Bush ┆ Republican            ┆ … ┆ 10  ┆ 17  ┆ 21  ┆ 21  │\n",
       "│ 41  ┆ 42   ┆ Bill Clinton      ┆ Democratic            ┆ … ┆ 18  ┆ 30  ┆ 14  ┆ 15  │\n",
       "│ 42  ┆ 43   ┆ George W. Bush    ┆ Republican            ┆ … ┆ 38  ┆ 36  ┆ 34  ┆ 33  │\n",
       "│ 43  ┆ 44   ┆ Barack Obama      ┆ Democratic            ┆ … ┆ 20  ┆ 10  ┆ 11  ┆ 17  │\n",
       "│ 44  ┆ 45   ┆ Donald Trump      ┆ Republican            ┆ … ┆ 42  ┆ 41  ┆ 42  ┆ 42  │\n",
       "└─────┴──────┴───────────────────┴───────────────────────┴───┴─────┴─────┴─────┴─────┘"
      ]
     },
     "execution_count": 32,
     "metadata": {},
     "output_type": "execute_result"
    }
   ],
   "source": [
    "(\n",
    "    siena2018\n",
    "        .with_columns(pl.col('Bg').cast(pl.UInt32))\n",
    "        .with_columns(pl.col(['President','Party']).cast(pl.Categorical))\n",
    ")"
   ]
  },
  {
   "cell_type": "code",
   "execution_count": null,
   "metadata": {},
   "outputs": [],
   "source": [
    "# https://www.youtube.com/watch?v=FxyHWx3zAyI\n",
    "# 37:50"
   ]
  }
 ],
 "metadata": {
  "kernelspec": {
   "display_name": ".venv",
   "language": "python",
   "name": "python3"
  },
  "language_info": {
   "codemirror_mode": {
    "name": "ipython",
    "version": 3
   },
   "file_extension": ".py",
   "mimetype": "text/x-python",
   "name": "python",
   "nbconvert_exporter": "python",
   "pygments_lexer": "ipython3",
   "version": "3.12.11"
  }
 },
 "nbformat": 4,
 "nbformat_minor": 2
}
